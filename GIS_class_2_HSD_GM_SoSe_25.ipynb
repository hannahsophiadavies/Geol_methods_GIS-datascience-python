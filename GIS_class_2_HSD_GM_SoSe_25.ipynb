{
  "nbformat": 4,
  "nbformat_minor": 0,
  "metadata": {
    "colab": {
      "provenance": []
    },
    "kernelspec": {
      "name": "python3",
      "display_name": "Python 3"
    },
    "language_info": {
      "name": "python"
    }
  },
  "cells": [
    {
      "cell_type": "markdown",
      "source": [
        "## 2. More complex data handling"
      ],
      "metadata": {
        "id": "TtmkHp41BSgV"
      }
    },
    {
      "cell_type": "markdown",
      "source": [
        "###2.1 Loops!\n",
        "\n",
        "A loop is a way to iterate over a sequence. They are **extremely** useful so make sure you understand how they work and how to use them."
      ],
      "metadata": {
        "id": "KeM1KLafyTWu"
      }
    },
    {
      "cell_type": "code",
      "execution_count": null,
      "metadata": {
        "colab": {
          "base_uri": "https://localhost:8080/"
        },
        "id": "LEmfNvtkyGSB",
        "outputId": "8a594742-33c5-4fdb-857b-7b8beea1f042"
      },
      "outputs": [
        {
          "output_type": "stream",
          "name": "stdout",
          "text": [
            "Berlin\n",
            "Cologne\n",
            "Frankfurt\n",
            "Hamburg\n",
            "Munich\n"
          ]
        }
      ],
      "source": [
        "cities = ['Berlin', 'Cologne', 'Frankfurt', 'Hamburg', 'Munich'] #make list of cities\n",
        "\n",
        "for city in cities:\n",
        "    print(city)"
      ]
    },
    {
      "cell_type": "markdown",
      "source": [
        "See how ```for``` is coloured different, that is because it is a control statement. Think of it as *for every element in this array, do the code I say below*."
      ],
      "metadata": {
        "id": "Yxbs4ELizRsK"
      }
    },
    {
      "cell_type": "markdown",
      "source": [
        "To iterate over a dictionary, use the ```items()``` method. By using x, y you tell it to return a tuple with name or key and value for each item in the dictionary. Laid out x and y are given different values each iteration of the loop e.g.\n",
        "\n",
        "Loop 1:\n",
        "x = city and y = San Francisco\n",
        "\n",
        "Loop 2:\n",
        "x = population and y = 881549\n",
        "\n",
        "Loop 3:\n",
        "x = coordinates and y = (-122.4194, 37.7749)"
      ],
      "metadata": {
        "id": "XbIX73gC7mpo"
      }
    },
    {
      "cell_type": "code",
      "source": [
        "data = {'city': 'San Francisco', 'population': 881549, 'coordinates': (-122.4194, 37.7749) }\n",
        "\n",
        "for x, y in data.items():\n",
        "    print(x, y)"
      ],
      "metadata": {
        "id": "VJNtc10U7S0Y",
        "colab": {
          "base_uri": "https://localhost:8080/"
        },
        "outputId": "340d966b-e8a6-40b7-d810-953c940ede2e"
      },
      "execution_count": null,
      "outputs": [
        {
          "output_type": "stream",
          "name": "stdout",
          "text": [
            "city San Francisco\n",
            "population 881549\n",
            "coordinates (-122.4194, 37.7749)\n"
          ]
        }
      ]
    },
    {
      "cell_type": "markdown",
      "source": [
        "####Formatting considerations!\n",
        "  \n",
        "\n",
        "*   The end of a conditional statement like ```for, if, while``` must have a colon (:)\n",
        "*   Any code you want to include in the loop must be indented below the statement or it won't include it in the loop\n",
        "\n",
        "\n"
      ],
      "metadata": {
        "id": "YoDpO4tG9vSC"
      }
    },
    {
      "cell_type": "code",
      "source": [
        "for x, y in data.items():\n",
        "    print(x, y) #this code is in the loop\n",
        "\n",
        "print(x,y) #this code is not in the loop"
      ],
      "metadata": {
        "colab": {
          "base_uri": "https://localhost:8080/"
        },
        "id": "sfufCw2v-Iwb",
        "outputId": "97dd0cc2-c5b3-4d64-c4fb-bb16379daac0"
      },
      "execution_count": null,
      "outputs": [
        {
          "output_type": "stream",
          "name": "stdout",
          "text": [
            "city San Francisco\n",
            "population 881549\n",
            "coordinates (-122.4194, 37.7749)\n",
            "coordinates (-122.4194, 37.7749)\n"
          ]
        }
      ]
    },
    {
      "cell_type": "markdown",
      "source": [
        "You can also assign a number of times a loop can run using the ```range()``` command"
      ],
      "metadata": {
        "id": "XyDXpS-L8sz4"
      }
    },
    {
      "cell_type": "code",
      "source": [
        "for i in range(5):\n",
        "  print(i)"
      ],
      "metadata": {
        "id": "Wqpnlv027gKO",
        "colab": {
          "base_uri": "https://localhost:8080/"
        },
        "outputId": "c636a403-e5ce-4c59-d06d-72e6ca2d0d3f"
      },
      "execution_count": null,
      "outputs": [
        {
          "output_type": "stream",
          "name": "stdout",
          "text": [
            "0\n",
            "1\n",
            "2\n",
            "3\n",
            "4\n"
          ]
        }
      ]
    },
    {
      "cell_type": "markdown",
      "source": [
        "Remember Python counts from 0, this also applies here as well as indexing."
      ],
      "metadata": {
        "id": "SWejV_gG88V7"
      }
    },
    {
      "cell_type": "markdown",
      "source": [
        "```range()``` can also take a start and end number and give you a set of values"
      ],
      "metadata": {
        "id": "VkZs3C9q9M4p"
      }
    },
    {
      "cell_type": "code",
      "source": [
        "for x in range(0,10,1): #make a range of values from start(0) to end(10) with a step of 1\n",
        "  print(x)"
      ],
      "metadata": {
        "id": "YfY6JF8t84zg",
        "colab": {
          "base_uri": "https://localhost:8080/"
        },
        "outputId": "0f4358fd-477e-4613-ac2d-701b321c4b33"
      },
      "execution_count": null,
      "outputs": [
        {
          "output_type": "stream",
          "name": "stdout",
          "text": [
            "0\n",
            "1\n",
            "2\n",
            "3\n",
            "4\n",
            "5\n",
            "6\n",
            "7\n",
            "8\n",
            "9\n"
          ]
        }
      ]
    },
    {
      "cell_type": "markdown",
      "source": [
        "###If, else, elif - more conditionals\n",
        "Same as last week with ```==``` and others, we can ask the machine to tell us, or do a thing when that statement is ```True``` or ```False```"
      ],
      "metadata": {
        "id": "orw9nFKC-euS"
      }
    },
    {
      "cell_type": "code",
      "source": [
        "for x in range (0,10,1):\n",
        "  if x == 5:\n",
        "    print(\"I found it!\", x)\n",
        "  else:\n",
        "    print(\"I'm still looking for 5\", x)"
      ],
      "metadata": {
        "colab": {
          "base_uri": "https://localhost:8080/"
        },
        "id": "EgSYc9Aj9l5M",
        "outputId": "238f936f-cbc2-4179-f54c-212fadea9e4c"
      },
      "execution_count": null,
      "outputs": [
        {
          "output_type": "stream",
          "name": "stdout",
          "text": [
            "I'm still looking for 5 0\n",
            "I'm still looking for 5 1\n",
            "I'm still looking for 5 2\n",
            "I'm still looking for 5 3\n",
            "I'm still looking for 5 4\n",
            "I found it! 5\n",
            "I'm still looking for 5 6\n",
            "I'm still looking for 5 7\n",
            "I'm still looking for 5 8\n",
            "I'm still looking for 5 9\n"
          ]
        }
      ]
    },
    {
      "cell_type": "code",
      "source": [
        "for x in range (0,10,1):\n",
        "  if x == 5:\n",
        "    print(\"I found it!\", x)\n",
        "  elif x == 3:\n",
        "    print(\"3 is not 5\")\n",
        "  else:\n",
        "    print(\"I'm still looking for 5\", x)"
      ],
      "metadata": {
        "colab": {
          "base_uri": "https://localhost:8080/"
        },
        "id": "UrizQ1xgHC5Z",
        "outputId": "28ce94fa-6aae-42a9-820b-ded0264fa575"
      },
      "execution_count": null,
      "outputs": [
        {
          "output_type": "stream",
          "name": "stdout",
          "text": [
            "I'm still looking for 5 0\n",
            "I'm still looking for 5 1\n",
            "I'm still looking for 5 2\n",
            "3 is not 5\n",
            "I'm still looking for 5 4\n",
            "I found it! 5\n",
            "I'm still looking for 5 6\n",
            "I'm still looking for 5 7\n",
            "I'm still looking for 5 8\n",
            "I'm still looking for 5 9\n"
          ]
        }
      ]
    },
    {
      "cell_type": "markdown",
      "source": [
        "####Formatting considerations!\n",
        "  \n",
        "\n",
        "*   ```if``` and ```else``` statements need to have the same indent to work together\n"
      ],
      "metadata": {
        "id": "WsjRilXcAEAw"
      }
    },
    {
      "cell_type": "markdown",
      "source": [
        "#Exercise\n",
        "\n",
        "Try to apply something you learned last lesson with something now, make a for loop for ```cities``` (the variable in the first cell of code) and when it returns Hamburg, ask it to tell you the **index** of Hamburg in the list:"
      ],
      "metadata": {
        "id": "3XiQI_IWATK5"
      }
    },
    {
      "cell_type": "code",
      "source": [
        "for i in cities:\n",
        "  if i == \"Hamburg\":\n",
        "    print(cities.index(i))\n",
        "  elif i == \"Berlin\":\n",
        "    print(cities.index(i))"
      ],
      "metadata": {
        "id": "R7rjvMeiPz-j",
        "colab": {
          "base_uri": "https://localhost:8080/"
        },
        "outputId": "13d2ec16-732a-425d-c02d-0e2bc4f4a932"
      },
      "execution_count": null,
      "outputs": [
        {
          "output_type": "stream",
          "name": "stdout",
          "text": [
            "0\n",
            "3\n"
          ]
        }
      ]
    },
    {
      "cell_type": "markdown",
      "source": [
        "## Learn loops well and learn them proper, you will use them a lot.\n",
        "\n",
        "Do not make mistakes like this:\n",
        "\n",
        "![x64yoo8sara81.jpg](data:image/jpeg;base64,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)"
      ],
      "metadata": {
        "id": "TtKSDwRsPTpX"
      }
    },
    {
      "cell_type": "markdown",
      "source": [
        "###Loops over multiple dimensions\n",
        "So far you have only used a loop over a list or a 1D array, doing the same over more than one dimension is just an extrapolation of the same code. See below for an example. Note \"i\" and \"j\" are again just arbitrary, although for looping through dimensions it is customary to go alphabetically meaning if there was a third dimension it would be \"k\""
      ],
      "metadata": {
        "id": "evFrL3CQdlDg"
      }
    },
    {
      "cell_type": "code",
      "source": [
        "import numpy as np #load numpy module and call it \"np\"\n",
        "rand_arr = np.random.rand(50,50) #make array 50x50 of random decimals\n",
        "rand_arr_thresholded = np.ones_like(rand_arr)*rand_arr #make a copy of the first array\n",
        "\n",
        "for i in range(len(rand_arr)): #for loop on rows\n",
        "  for j in range (len(rand_arr)): #for loop on columns\n",
        "    if rand_arr[i][j]<0.5: #if the value in the array is <0.5\n",
        "      rand_arr_thresholded[i][j] = 0.5 #make all values less than 0.5 = 0.5\n",
        "\n",
        "print(rand_arr_thresholded)\n"
      ],
      "metadata": {
        "colab": {
          "base_uri": "https://localhost:8080/"
        },
        "id": "P1yViDYtd-gs",
        "outputId": "de092466-b802-40ef-bfb4-27b01475a46d"
      },
      "execution_count": null,
      "outputs": [
        {
          "output_type": "stream",
          "name": "stdout",
          "text": [
            "[[0.54005595 0.5        0.54237678 ... 0.5        0.5        0.5       ]\n",
            " [0.5        0.84502576 0.85043003 ... 0.77890316 0.79773366 0.5       ]\n",
            " [0.70616882 0.5        0.5        ... 0.5        0.90113016 0.5       ]\n",
            " ...\n",
            " [0.5        0.652191   0.5        ... 0.97620616 0.65515158 0.5       ]\n",
            " [0.5        0.60721934 0.5        ... 0.5        0.5        0.8898951 ]\n",
            " [0.58339693 0.5        0.5        ... 0.67998559 0.62318905 0.5       ]]\n"
          ]
        }
      ]
    },
    {
      "cell_type": "markdown",
      "source": [
        "####Memory considerations!\n",
        "in the above example, why didn't I just put?\n",
        "\n",
        "```rand_arr_thresholded = rand_arr```\n",
        "\n",
        "https://www.geeksforgeeks.org/array-copying-in-python/\n",
        "\n",
        "Be **VERY** careful about shallow and deep copying arrays in Python, this is also applicable to many languages so is good to know!"
      ],
      "metadata": {
        "id": "ciCaVQbRg8Lk"
      }
    },
    {
      "cell_type": "markdown",
      "source": [
        "####One other trick!\n",
        "\n",
        "```where```\n",
        "\n",
        "Sometimes you don't even have to use a loop. if your array is very large or has many dimensions and you need to filter/mask/threshold it in some way like above you can use ```where```"
      ],
      "metadata": {
        "id": "zXHCO8mVfOev"
      }
    },
    {
      "cell_type": "code",
      "source": [
        "arr_where = np.where(rand_arr<0.5, 0.5, rand_arr) #where the array is less than 0.5, make it 0.5, or if not, just leave it as the value in rand_arr\n",
        "print(arr_where)"
      ],
      "metadata": {
        "colab": {
          "base_uri": "https://localhost:8080/"
        },
        "id": "FZhc38d9f669",
        "outputId": "dc4b2574-c28e-4969-ed71-95a10e7bddd9"
      },
      "execution_count": null,
      "outputs": [
        {
          "output_type": "stream",
          "name": "stdout",
          "text": [
            "[[0.78005404 0.83705378 0.56538514 ... 0.5        0.84349538 0.8974913 ]\n",
            " [0.53118515 0.96020481 0.5        ... 0.5        0.53740098 0.5       ]\n",
            " [0.5        0.5        0.80746641 ... 0.5        0.83536392 0.87123475]\n",
            " ...\n",
            " [0.5        0.58140714 0.5        ... 0.96948406 0.65496561 0.86590783]\n",
            " [0.5        0.5        0.74337297 ... 0.92780117 0.83270579 0.5       ]\n",
            " [0.5        0.68343143 0.5        ... 0.5        0.90210252 0.5       ]]\n"
          ]
        }
      ]
    },
    {
      "cell_type": "markdown",
      "source": [
        "# Exercise\n",
        "Make a for loop that goes to 1000 and identifies all primes. Make the loop output each prime into a list array."
      ],
      "metadata": {
        "id": "6P_dDLT_Pq0y"
      }
    },
    {
      "cell_type": "code",
      "source": [],
      "metadata": {
        "id": "JVBt7J_pA9Tq"
      },
      "execution_count": null,
      "outputs": []
    },
    {
      "cell_type": "markdown",
      "source": [
        "### 2.2 Functions\n",
        "A function is a block of code that processes an input and retuns an output. It is similar to a loop but it is callable and can be stored in another file and used, instead of rewriting loops each time.\n",
        "\n",
        "They are defined with the ```def``` keyword.\n",
        "\n",
        "One function that will be useful for this course is a coordinate converter from Degrees, Minutes and Seconds to decimal degrees:\n"
      ],
      "metadata": {
        "id": "TpqB6t5IbT7N"
      }
    },
    {
      "cell_type": "code",
      "source": [
        "def dms_to_decimal(degrees, minutes, seconds):\n",
        "    if degrees < 0:\n",
        "        result = degrees - minutes/60 - seconds/3600\n",
        "    else:\n",
        "        result = degrees + minutes/60 + seconds/3600\n",
        "    return result"
      ],
      "metadata": {
        "id": "8du-U-g8cQZo"
      },
      "execution_count": null,
      "outputs": []
    },
    {
      "cell_type": "markdown",
      "source": [
        "Another useful function, Haversine."
      ],
      "metadata": {
        "id": "qSPtVU7iiwk7"
      }
    },
    {
      "cell_type": "code",
      "source": [
        "def haversine_distance(lat1, long1, lat2, long2):\n",
        "  import math\n",
        "  earthrad = 6371 #Earth radius in km\n",
        "\n",
        "  dlat = math.radians(lat2-lat1) #convert degrees to radians\n",
        "  dlon = math.radians(long2-long1) #same here\n",
        "\n",
        "  a = math.sin(dlat/2) * math.sin(dlat/2) + math.cos(math.radians(lat1)) \\\n",
        "    * math.cos(math.radians(lat2)) * math.sin(dlon/2) * math.sin(dlon/2)\n",
        "\n",
        "  c = 2 * math.atan2(math.sqrt(a), math.sqrt(1-a))\n",
        "  distance = earthrad * c\n",
        "\n",
        "  return distance\n"
      ],
      "metadata": {
        "id": "9mJRp6hKdp-E"
      },
      "execution_count": null,
      "outputs": []
    },
    {
      "cell_type": "code",
      "source": [
        "san_francisco = (37.7749, -122.4194)\n",
        "new_york = (40.661, -73.944)\n",
        "\n",
        "distance = haversine_distance(san_francisco[0], san_francisco[1], new_york[0], new_york[1])\n",
        "print(distance)"
      ],
      "metadata": {
        "colab": {
          "base_uri": "https://localhost:8080/"
        },
        "id": "mlfDA7tqwTZU",
        "outputId": "48a77e2c-7f22-4ea9-c7b9-889c278ad1ef"
      },
      "execution_count": null,
      "outputs": [
        {
          "output_type": "stream",
          "name": "stdout",
          "text": [
            "4135.374617164737\n"
          ]
        }
      ]
    },
    {
      "cell_type": "markdown",
      "source": [
        "Swap out San Francisco and New York with two other cities to get a different distance"
      ],
      "metadata": {
        "id": "Pg72z7zwxA0j"
      }
    },
    {
      "cell_type": "markdown",
      "source": [
        "### 2.3 Installing modules\n",
        "\n",
        "As you may have noticed above for the ```where``` command and the haversine function we used ```import``` to import functions from a third-party module or library.\n",
        "\n",
        "Python has a wealth of mathematical programs which can be loaded in and used as need be. Haversine is an example of this."
      ],
      "metadata": {
        "id": "yQPpl3Y44HWc"
      }
    },
    {
      "cell_type": "code",
      "source": [
        "!pip install haversine==2.1.2\n",
        "from haversine import haversine, Unit"
      ],
      "metadata": {
        "colab": {
          "base_uri": "https://localhost:8080/"
        },
        "id": "p50eTHejwhFL",
        "outputId": "c130abe4-a28a-4c5c-fa68-13937872f1de"
      },
      "execution_count": null,
      "outputs": [
        {
          "output_type": "stream",
          "name": "stdout",
          "text": [
            "Requirement already satisfied: haversine==2.1.2 in /usr/local/lib/python3.11/dist-packages (2.1.2)\n"
          ]
        }
      ]
    },
    {
      "cell_type": "code",
      "source": [
        "haversine #access the API for the function"
      ],
      "metadata": {
        "colab": {
          "base_uri": "https://localhost:8080/",
          "height": 187
        },
        "id": "n5pOcux55EJj",
        "outputId": "3ebcfe68-898d-4649-9ee1-ab824c7d21b5"
      },
      "execution_count": null,
      "outputs": [
        {
          "output_type": "execute_result",
          "data": {
            "text/plain": [
              "<function haversine.haversine.haversine(point1, point2, unit=<Unit.KILOMETERS: 'km'>)>"
            ],
            "text/html": [
              "<div style=\"max-width:800px; border: 1px solid var(--colab-border-color);\"><style>\n",
              "      pre.function-repr-contents {\n",
              "        overflow-x: auto;\n",
              "        padding: 8px 12px;\n",
              "        max-height: 500px;\n",
              "      }\n",
              "\n",
              "      pre.function-repr-contents.function-repr-contents-collapsed {\n",
              "        cursor: pointer;\n",
              "        max-height: 100px;\n",
              "      }\n",
              "    </style>\n",
              "    <pre style=\"white-space: initial; background:\n",
              "         var(--colab-secondary-surface-color); padding: 8px 12px;\n",
              "         border-bottom: 1px solid var(--colab-border-color);\"><b>haversine.haversine.haversine</b><br/>def haversine(point1, point2, unit=Unit.KILOMETERS)</pre><pre class=\"function-repr-contents function-repr-contents-collapsed\" style=\"\"><a class=\"filepath\" style=\"display:none\" href=\"#\">/usr/local/lib/python3.11/dist-packages/haversine/haversine.py</a>Calculate the great-circle distance between two points on the Earth surface.\n",
              "\n",
              "Takes two 2-tuples, containing the latitude and longitude of each point in decimal degrees,\n",
              "and, optionally, a unit of length.\n",
              "\n",
              ":param point1: first point; tuple of (latitude, longitude) in decimal degrees\n",
              ":param point2: second point; tuple of (latitude, longitude) in decimal degrees\n",
              ":param unit: a member of haversine.Unit, or, equivalently, a string containing the\n",
              "             initials of its corresponding unit of measurement (i.e. miles = mi)\n",
              "             default &#x27;km&#x27; (kilometers).\n",
              "\n",
              "Example: ``haversine((45.7597, 4.8422), (48.8567, 2.3508), unit=Unit.METERS)``\n",
              "\n",
              "Precondition: ``unit`` is a supported unit (supported units are listed in the `Unit` enum)\n",
              "\n",
              ":return: the distance between the two points in the requested unit, as a float.\n",
              "\n",
              "The default returned unit is kilometers. The default unit can be changed by\n",
              "setting the unit parameter to a member of ``haversine.Unit``\n",
              "(e.g. ``haversine.Unit.INCHES``), or, equivalently, to a string containing the\n",
              "corresponding abbreviation (e.g. &#x27;in&#x27;). All available units can be found in the ``Unit`` enum.</pre>\n",
              "      <script>\n",
              "      if (google.colab.kernel.accessAllowed && google.colab.files && google.colab.files.view) {\n",
              "        for (const element of document.querySelectorAll('.filepath')) {\n",
              "          element.style.display = 'block'\n",
              "          element.onclick = (event) => {\n",
              "            event.preventDefault();\n",
              "            event.stopPropagation();\n",
              "            google.colab.files.view(element.textContent, 33);\n",
              "          };\n",
              "        }\n",
              "      }\n",
              "      for (const element of document.querySelectorAll('.function-repr-contents')) {\n",
              "        element.onclick = (event) => {\n",
              "          event.preventDefault();\n",
              "          event.stopPropagation();\n",
              "          element.classList.toggle('function-repr-contents-collapsed');\n",
              "        };\n",
              "      }\n",
              "      </script>\n",
              "      </div>"
            ]
          },
          "metadata": {},
          "execution_count": 47
        }
      ]
    },
    {
      "cell_type": "code",
      "source": [
        "print(haversine(san_francisco, new_york))"
      ],
      "metadata": {
        "colab": {
          "base_uri": "https://localhost:8080/"
        },
        "id": "RF5RubUf5MU4",
        "outputId": "1c2f2f67-69c2-4371-eab1-67ae681fd99b"
      },
      "execution_count": null,
      "outputs": [
        {
          "output_type": "stream",
          "name": "stdout",
          "text": [
            "4135.3803291874365\n"
          ]
        }
      ]
    },
    {
      "cell_type": "markdown",
      "source": [
        "### 2.4 Reading files\n",
        "If you are running code from your local machine then the easiest place to access data is in the working directory (i.e., where the jupyter notebook/script is stored), on google colab it is a bit more complicated but the same basic idea applies.\n"
      ],
      "metadata": {
        "id": "jlLtowHy76vM"
      }
    },
    {
      "cell_type": "code",
      "source": [
        "import os\n",
        "os.getcwd()"
      ],
      "metadata": {
        "colab": {
          "base_uri": "https://localhost:8080/",
          "height": 36
        },
        "id": "5xz4eEaA62FH",
        "outputId": "2322b934-6f9e-459b-a2a2-42d088071fad"
      },
      "execution_count": null,
      "outputs": [
        {
          "output_type": "execute_result",
          "data": {
            "text/plain": [
              "'/content'"
            ],
            "application/vnd.google.colaboratory.intrinsic+json": {
              "type": "string"
            }
          },
          "metadata": {},
          "execution_count": 12
        }
      ]
    },
    {
      "cell_type": "markdown",
      "source": [
        "See the current working directory is \"/content\"\n",
        "\n",
        "There should be some sample data there, we will look at that first but then use another dataset."
      ],
      "metadata": {
        "id": "aw70O2yr-cLo"
      }
    },
    {
      "cell_type": "code",
      "source": [
        "import pandas as pd #This is one of my favourites for reading data into python but there are others!"
      ],
      "metadata": {
        "id": "nJx-ShXI-k-G"
      },
      "execution_count": null,
      "outputs": []
    },
    {
      "cell_type": "code",
      "source": [
        "ds = pd.read_csv(\"/content/sample_data/california_housing_test.csv\")"
      ],
      "metadata": {
        "id": "JsVwqCeY-xi1"
      },
      "execution_count": null,
      "outputs": []
    },
    {
      "cell_type": "code",
      "source": [
        "ds"
      ],
      "metadata": {
        "colab": {
          "base_uri": "https://localhost:8080/",
          "height": 424
        },
        "id": "PPWaKeFt--GC",
        "outputId": "d7923cb9-68e9-49e6-9431-23a7b56b5738"
      },
      "execution_count": null,
      "outputs": [
        {
          "output_type": "execute_result",
          "data": {
            "text/plain": [
              "      longitude  latitude  housing_median_age  total_rooms  total_bedrooms  \\\n",
              "0       -122.05     37.37                27.0       3885.0           661.0   \n",
              "1       -118.30     34.26                43.0       1510.0           310.0   \n",
              "2       -117.81     33.78                27.0       3589.0           507.0   \n",
              "3       -118.36     33.82                28.0         67.0            15.0   \n",
              "4       -119.67     36.33                19.0       1241.0           244.0   \n",
              "...         ...       ...                 ...          ...             ...   \n",
              "2995    -119.86     34.42                23.0       1450.0           642.0   \n",
              "2996    -118.14     34.06                27.0       5257.0          1082.0   \n",
              "2997    -119.70     36.30                10.0        956.0           201.0   \n",
              "2998    -117.12     34.10                40.0         96.0            14.0   \n",
              "2999    -119.63     34.42                42.0       1765.0           263.0   \n",
              "\n",
              "      population  households  median_income  median_house_value  \n",
              "0         1537.0       606.0         6.6085            344700.0  \n",
              "1          809.0       277.0         3.5990            176500.0  \n",
              "2         1484.0       495.0         5.7934            270500.0  \n",
              "3           49.0        11.0         6.1359            330000.0  \n",
              "4          850.0       237.0         2.9375             81700.0  \n",
              "...          ...         ...            ...                 ...  \n",
              "2995      1258.0       607.0         1.1790            225000.0  \n",
              "2996      3496.0      1036.0         3.3906            237200.0  \n",
              "2997       693.0       220.0         2.2895             62000.0  \n",
              "2998        46.0        14.0         3.2708            162500.0  \n",
              "2999       753.0       260.0         8.5608            500001.0  \n",
              "\n",
              "[3000 rows x 9 columns]"
            ],
            "text/html": [
              "\n",
              "  <div id=\"df-154829ae-63ce-4ecb-8b88-27a2d9aa5ced\" class=\"colab-df-container\">\n",
              "    <div>\n",
              "<style scoped>\n",
              "    .dataframe tbody tr th:only-of-type {\n",
              "        vertical-align: middle;\n",
              "    }\n",
              "\n",
              "    .dataframe tbody tr th {\n",
              "        vertical-align: top;\n",
              "    }\n",
              "\n",
              "    .dataframe thead th {\n",
              "        text-align: right;\n",
              "    }\n",
              "</style>\n",
              "<table border=\"1\" class=\"dataframe\">\n",
              "  <thead>\n",
              "    <tr style=\"text-align: right;\">\n",
              "      <th></th>\n",
              "      <th>longitude</th>\n",
              "      <th>latitude</th>\n",
              "      <th>housing_median_age</th>\n",
              "      <th>total_rooms</th>\n",
              "      <th>total_bedrooms</th>\n",
              "      <th>population</th>\n",
              "      <th>households</th>\n",
              "      <th>median_income</th>\n",
              "      <th>median_house_value</th>\n",
              "    </tr>\n",
              "  </thead>\n",
              "  <tbody>\n",
              "    <tr>\n",
              "      <th>0</th>\n",
              "      <td>-122.05</td>\n",
              "      <td>37.37</td>\n",
              "      <td>27.0</td>\n",
              "      <td>3885.0</td>\n",
              "      <td>661.0</td>\n",
              "      <td>1537.0</td>\n",
              "      <td>606.0</td>\n",
              "      <td>6.6085</td>\n",
              "      <td>344700.0</td>\n",
              "    </tr>\n",
              "    <tr>\n",
              "      <th>1</th>\n",
              "      <td>-118.30</td>\n",
              "      <td>34.26</td>\n",
              "      <td>43.0</td>\n",
              "      <td>1510.0</td>\n",
              "      <td>310.0</td>\n",
              "      <td>809.0</td>\n",
              "      <td>277.0</td>\n",
              "      <td>3.5990</td>\n",
              "      <td>176500.0</td>\n",
              "    </tr>\n",
              "    <tr>\n",
              "      <th>2</th>\n",
              "      <td>-117.81</td>\n",
              "      <td>33.78</td>\n",
              "      <td>27.0</td>\n",
              "      <td>3589.0</td>\n",
              "      <td>507.0</td>\n",
              "      <td>1484.0</td>\n",
              "      <td>495.0</td>\n",
              "      <td>5.7934</td>\n",
              "      <td>270500.0</td>\n",
              "    </tr>\n",
              "    <tr>\n",
              "      <th>3</th>\n",
              "      <td>-118.36</td>\n",
              "      <td>33.82</td>\n",
              "      <td>28.0</td>\n",
              "      <td>67.0</td>\n",
              "      <td>15.0</td>\n",
              "      <td>49.0</td>\n",
              "      <td>11.0</td>\n",
              "      <td>6.1359</td>\n",
              "      <td>330000.0</td>\n",
              "    </tr>\n",
              "    <tr>\n",
              "      <th>4</th>\n",
              "      <td>-119.67</td>\n",
              "      <td>36.33</td>\n",
              "      <td>19.0</td>\n",
              "      <td>1241.0</td>\n",
              "      <td>244.0</td>\n",
              "      <td>850.0</td>\n",
              "      <td>237.0</td>\n",
              "      <td>2.9375</td>\n",
              "      <td>81700.0</td>\n",
              "    </tr>\n",
              "    <tr>\n",
              "      <th>...</th>\n",
              "      <td>...</td>\n",
              "      <td>...</td>\n",
              "      <td>...</td>\n",
              "      <td>...</td>\n",
              "      <td>...</td>\n",
              "      <td>...</td>\n",
              "      <td>...</td>\n",
              "      <td>...</td>\n",
              "      <td>...</td>\n",
              "    </tr>\n",
              "    <tr>\n",
              "      <th>2995</th>\n",
              "      <td>-119.86</td>\n",
              "      <td>34.42</td>\n",
              "      <td>23.0</td>\n",
              "      <td>1450.0</td>\n",
              "      <td>642.0</td>\n",
              "      <td>1258.0</td>\n",
              "      <td>607.0</td>\n",
              "      <td>1.1790</td>\n",
              "      <td>225000.0</td>\n",
              "    </tr>\n",
              "    <tr>\n",
              "      <th>2996</th>\n",
              "      <td>-118.14</td>\n",
              "      <td>34.06</td>\n",
              "      <td>27.0</td>\n",
              "      <td>5257.0</td>\n",
              "      <td>1082.0</td>\n",
              "      <td>3496.0</td>\n",
              "      <td>1036.0</td>\n",
              "      <td>3.3906</td>\n",
              "      <td>237200.0</td>\n",
              "    </tr>\n",
              "    <tr>\n",
              "      <th>2997</th>\n",
              "      <td>-119.70</td>\n",
              "      <td>36.30</td>\n",
              "      <td>10.0</td>\n",
              "      <td>956.0</td>\n",
              "      <td>201.0</td>\n",
              "      <td>693.0</td>\n",
              "      <td>220.0</td>\n",
              "      <td>2.2895</td>\n",
              "      <td>62000.0</td>\n",
              "    </tr>\n",
              "    <tr>\n",
              "      <th>2998</th>\n",
              "      <td>-117.12</td>\n",
              "      <td>34.10</td>\n",
              "      <td>40.0</td>\n",
              "      <td>96.0</td>\n",
              "      <td>14.0</td>\n",
              "      <td>46.0</td>\n",
              "      <td>14.0</td>\n",
              "      <td>3.2708</td>\n",
              "      <td>162500.0</td>\n",
              "    </tr>\n",
              "    <tr>\n",
              "      <th>2999</th>\n",
              "      <td>-119.63</td>\n",
              "      <td>34.42</td>\n",
              "      <td>42.0</td>\n",
              "      <td>1765.0</td>\n",
              "      <td>263.0</td>\n",
              "      <td>753.0</td>\n",
              "      <td>260.0</td>\n",
              "      <td>8.5608</td>\n",
              "      <td>500001.0</td>\n",
              "    </tr>\n",
              "  </tbody>\n",
              "</table>\n",
              "<p>3000 rows × 9 columns</p>\n",
              "</div>\n",
              "    <div class=\"colab-df-buttons\">\n",
              "\n",
              "  <div class=\"colab-df-container\">\n",
              "    <button class=\"colab-df-convert\" onclick=\"convertToInteractive('df-154829ae-63ce-4ecb-8b88-27a2d9aa5ced')\"\n",
              "            title=\"Convert this dataframe to an interactive table.\"\n",
              "            style=\"display:none;\">\n",
              "\n",
              "  <svg xmlns=\"http://www.w3.org/2000/svg\" height=\"24px\" viewBox=\"0 -960 960 960\">\n",
              "    <path d=\"M120-120v-720h720v720H120Zm60-500h600v-160H180v160Zm220 220h160v-160H400v160Zm0 220h160v-160H400v160ZM180-400h160v-160H180v160Zm440 0h160v-160H620v160ZM180-180h160v-160H180v160Zm440 0h160v-160H620v160Z\"/>\n",
              "  </svg>\n",
              "    </button>\n",
              "\n",
              "  <style>\n",
              "    .colab-df-container {\n",
              "      display:flex;\n",
              "      gap: 12px;\n",
              "    }\n",
              "\n",
              "    .colab-df-convert {\n",
              "      background-color: #E8F0FE;\n",
              "      border: none;\n",
              "      border-radius: 50%;\n",
              "      cursor: pointer;\n",
              "      display: none;\n",
              "      fill: #1967D2;\n",
              "      height: 32px;\n",
              "      padding: 0 0 0 0;\n",
              "      width: 32px;\n",
              "    }\n",
              "\n",
              "    .colab-df-convert:hover {\n",
              "      background-color: #E2EBFA;\n",
              "      box-shadow: 0px 1px 2px rgba(60, 64, 67, 0.3), 0px 1px 3px 1px rgba(60, 64, 67, 0.15);\n",
              "      fill: #174EA6;\n",
              "    }\n",
              "\n",
              "    .colab-df-buttons div {\n",
              "      margin-bottom: 4px;\n",
              "    }\n",
              "\n",
              "    [theme=dark] .colab-df-convert {\n",
              "      background-color: #3B4455;\n",
              "      fill: #D2E3FC;\n",
              "    }\n",
              "\n",
              "    [theme=dark] .colab-df-convert:hover {\n",
              "      background-color: #434B5C;\n",
              "      box-shadow: 0px 1px 3px 1px rgba(0, 0, 0, 0.15);\n",
              "      filter: drop-shadow(0px 1px 2px rgba(0, 0, 0, 0.3));\n",
              "      fill: #FFFFFF;\n",
              "    }\n",
              "  </style>\n",
              "\n",
              "    <script>\n",
              "      const buttonEl =\n",
              "        document.querySelector('#df-154829ae-63ce-4ecb-8b88-27a2d9aa5ced button.colab-df-convert');\n",
              "      buttonEl.style.display =\n",
              "        google.colab.kernel.accessAllowed ? 'block' : 'none';\n",
              "\n",
              "      async function convertToInteractive(key) {\n",
              "        const element = document.querySelector('#df-154829ae-63ce-4ecb-8b88-27a2d9aa5ced');\n",
              "        const dataTable =\n",
              "          await google.colab.kernel.invokeFunction('convertToInteractive',\n",
              "                                                    [key], {});\n",
              "        if (!dataTable) return;\n",
              "\n",
              "        const docLinkHtml = 'Like what you see? Visit the ' +\n",
              "          '<a target=\"_blank\" href=https://colab.research.google.com/notebooks/data_table.ipynb>data table notebook</a>'\n",
              "          + ' to learn more about interactive tables.';\n",
              "        element.innerHTML = '';\n",
              "        dataTable['output_type'] = 'display_data';\n",
              "        await google.colab.output.renderOutput(dataTable, element);\n",
              "        const docLink = document.createElement('div');\n",
              "        docLink.innerHTML = docLinkHtml;\n",
              "        element.appendChild(docLink);\n",
              "      }\n",
              "    </script>\n",
              "  </div>\n",
              "\n",
              "\n",
              "    <div id=\"df-2b292ce7-86dd-40eb-b41b-818b1c54881f\">\n",
              "      <button class=\"colab-df-quickchart\" onclick=\"quickchart('df-2b292ce7-86dd-40eb-b41b-818b1c54881f')\"\n",
              "                title=\"Suggest charts\"\n",
              "                style=\"display:none;\">\n",
              "\n",
              "<svg xmlns=\"http://www.w3.org/2000/svg\" height=\"24px\"viewBox=\"0 0 24 24\"\n",
              "     width=\"24px\">\n",
              "    <g>\n",
              "        <path d=\"M19 3H5c-1.1 0-2 .9-2 2v14c0 1.1.9 2 2 2h14c1.1 0 2-.9 2-2V5c0-1.1-.9-2-2-2zM9 17H7v-7h2v7zm4 0h-2V7h2v10zm4 0h-2v-4h2v4z\"/>\n",
              "    </g>\n",
              "</svg>\n",
              "      </button>\n",
              "\n",
              "<style>\n",
              "  .colab-df-quickchart {\n",
              "      --bg-color: #E8F0FE;\n",
              "      --fill-color: #1967D2;\n",
              "      --hover-bg-color: #E2EBFA;\n",
              "      --hover-fill-color: #174EA6;\n",
              "      --disabled-fill-color: #AAA;\n",
              "      --disabled-bg-color: #DDD;\n",
              "  }\n",
              "\n",
              "  [theme=dark] .colab-df-quickchart {\n",
              "      --bg-color: #3B4455;\n",
              "      --fill-color: #D2E3FC;\n",
              "      --hover-bg-color: #434B5C;\n",
              "      --hover-fill-color: #FFFFFF;\n",
              "      --disabled-bg-color: #3B4455;\n",
              "      --disabled-fill-color: #666;\n",
              "  }\n",
              "\n",
              "  .colab-df-quickchart {\n",
              "    background-color: var(--bg-color);\n",
              "    border: none;\n",
              "    border-radius: 50%;\n",
              "    cursor: pointer;\n",
              "    display: none;\n",
              "    fill: var(--fill-color);\n",
              "    height: 32px;\n",
              "    padding: 0;\n",
              "    width: 32px;\n",
              "  }\n",
              "\n",
              "  .colab-df-quickchart:hover {\n",
              "    background-color: var(--hover-bg-color);\n",
              "    box-shadow: 0 1px 2px rgba(60, 64, 67, 0.3), 0 1px 3px 1px rgba(60, 64, 67, 0.15);\n",
              "    fill: var(--button-hover-fill-color);\n",
              "  }\n",
              "\n",
              "  .colab-df-quickchart-complete:disabled,\n",
              "  .colab-df-quickchart-complete:disabled:hover {\n",
              "    background-color: var(--disabled-bg-color);\n",
              "    fill: var(--disabled-fill-color);\n",
              "    box-shadow: none;\n",
              "  }\n",
              "\n",
              "  .colab-df-spinner {\n",
              "    border: 2px solid var(--fill-color);\n",
              "    border-color: transparent;\n",
              "    border-bottom-color: var(--fill-color);\n",
              "    animation:\n",
              "      spin 1s steps(1) infinite;\n",
              "  }\n",
              "\n",
              "  @keyframes spin {\n",
              "    0% {\n",
              "      border-color: transparent;\n",
              "      border-bottom-color: var(--fill-color);\n",
              "      border-left-color: var(--fill-color);\n",
              "    }\n",
              "    20% {\n",
              "      border-color: transparent;\n",
              "      border-left-color: var(--fill-color);\n",
              "      border-top-color: var(--fill-color);\n",
              "    }\n",
              "    30% {\n",
              "      border-color: transparent;\n",
              "      border-left-color: var(--fill-color);\n",
              "      border-top-color: var(--fill-color);\n",
              "      border-right-color: var(--fill-color);\n",
              "    }\n",
              "    40% {\n",
              "      border-color: transparent;\n",
              "      border-right-color: var(--fill-color);\n",
              "      border-top-color: var(--fill-color);\n",
              "    }\n",
              "    60% {\n",
              "      border-color: transparent;\n",
              "      border-right-color: var(--fill-color);\n",
              "    }\n",
              "    80% {\n",
              "      border-color: transparent;\n",
              "      border-right-color: var(--fill-color);\n",
              "      border-bottom-color: var(--fill-color);\n",
              "    }\n",
              "    90% {\n",
              "      border-color: transparent;\n",
              "      border-bottom-color: var(--fill-color);\n",
              "    }\n",
              "  }\n",
              "</style>\n",
              "\n",
              "      <script>\n",
              "        async function quickchart(key) {\n",
              "          const quickchartButtonEl =\n",
              "            document.querySelector('#' + key + ' button');\n",
              "          quickchartButtonEl.disabled = true;  // To prevent multiple clicks.\n",
              "          quickchartButtonEl.classList.add('colab-df-spinner');\n",
              "          try {\n",
              "            const charts = await google.colab.kernel.invokeFunction(\n",
              "                'suggestCharts', [key], {});\n",
              "          } catch (error) {\n",
              "            console.error('Error during call to suggestCharts:', error);\n",
              "          }\n",
              "          quickchartButtonEl.classList.remove('colab-df-spinner');\n",
              "          quickchartButtonEl.classList.add('colab-df-quickchart-complete');\n",
              "        }\n",
              "        (() => {\n",
              "          let quickchartButtonEl =\n",
              "            document.querySelector('#df-2b292ce7-86dd-40eb-b41b-818b1c54881f button');\n",
              "          quickchartButtonEl.style.display =\n",
              "            google.colab.kernel.accessAllowed ? 'block' : 'none';\n",
              "        })();\n",
              "      </script>\n",
              "    </div>\n",
              "\n",
              "  <div id=\"id_23daf280-ee59-4751-b04d-ee1df07f0c17\">\n",
              "    <style>\n",
              "      .colab-df-generate {\n",
              "        background-color: #E8F0FE;\n",
              "        border: none;\n",
              "        border-radius: 50%;\n",
              "        cursor: pointer;\n",
              "        display: none;\n",
              "        fill: #1967D2;\n",
              "        height: 32px;\n",
              "        padding: 0 0 0 0;\n",
              "        width: 32px;\n",
              "      }\n",
              "\n",
              "      .colab-df-generate:hover {\n",
              "        background-color: #E2EBFA;\n",
              "        box-shadow: 0px 1px 2px rgba(60, 64, 67, 0.3), 0px 1px 3px 1px rgba(60, 64, 67, 0.15);\n",
              "        fill: #174EA6;\n",
              "      }\n",
              "\n",
              "      [theme=dark] .colab-df-generate {\n",
              "        background-color: #3B4455;\n",
              "        fill: #D2E3FC;\n",
              "      }\n",
              "\n",
              "      [theme=dark] .colab-df-generate:hover {\n",
              "        background-color: #434B5C;\n",
              "        box-shadow: 0px 1px 3px 1px rgba(0, 0, 0, 0.15);\n",
              "        filter: drop-shadow(0px 1px 2px rgba(0, 0, 0, 0.3));\n",
              "        fill: #FFFFFF;\n",
              "      }\n",
              "    </style>\n",
              "    <button class=\"colab-df-generate\" onclick=\"generateWithVariable('ds')\"\n",
              "            title=\"Generate code using this dataframe.\"\n",
              "            style=\"display:none;\">\n",
              "\n",
              "  <svg xmlns=\"http://www.w3.org/2000/svg\" height=\"24px\"viewBox=\"0 0 24 24\"\n",
              "       width=\"24px\">\n",
              "    <path d=\"M7,19H8.4L18.45,9,17,7.55,7,17.6ZM5,21V16.75L18.45,3.32a2,2,0,0,1,2.83,0l1.4,1.43a1.91,1.91,0,0,1,.58,1.4,1.91,1.91,0,0,1-.58,1.4L9.25,21ZM18.45,9,17,7.55Zm-12,3A5.31,5.31,0,0,0,4.9,8.1,5.31,5.31,0,0,0,1,6.5,5.31,5.31,0,0,0,4.9,4.9,5.31,5.31,0,0,0,6.5,1,5.31,5.31,0,0,0,8.1,4.9,5.31,5.31,0,0,0,12,6.5,5.46,5.46,0,0,0,6.5,12Z\"/>\n",
              "  </svg>\n",
              "    </button>\n",
              "    <script>\n",
              "      (() => {\n",
              "      const buttonEl =\n",
              "        document.querySelector('#id_23daf280-ee59-4751-b04d-ee1df07f0c17 button.colab-df-generate');\n",
              "      buttonEl.style.display =\n",
              "        google.colab.kernel.accessAllowed ? 'block' : 'none';\n",
              "\n",
              "      buttonEl.onclick = () => {\n",
              "        google.colab.notebook.generateWithVariable('ds');\n",
              "      }\n",
              "      })();\n",
              "    </script>\n",
              "  </div>\n",
              "\n",
              "    </div>\n",
              "  </div>\n"
            ],
            "application/vnd.google.colaboratory.intrinsic+json": {
              "type": "dataframe",
              "variable_name": "ds",
              "summary": "{\n  \"name\": \"ds\",\n  \"rows\": 3000,\n  \"fields\": [\n    {\n      \"column\": \"longitude\",\n      \"properties\": {\n        \"dtype\": \"number\",\n        \"std\": 1.9949362939550161,\n        \"min\": -124.18,\n        \"max\": -114.49,\n        \"num_unique_values\": 607,\n        \"samples\": [\n          -121.15,\n          -121.46,\n          -121.02\n        ],\n        \"semantic_type\": \"\",\n        \"description\": \"\"\n      }\n    },\n    {\n      \"column\": \"latitude\",\n      \"properties\": {\n        \"dtype\": \"number\",\n        \"std\": 2.1296695233438325,\n        \"min\": 32.56,\n        \"max\": 41.92,\n        \"num_unique_values\": 587,\n        \"samples\": [\n          40.17,\n          33.69,\n          39.61\n        ],\n        \"semantic_type\": \"\",\n        \"description\": \"\"\n      }\n    },\n    {\n      \"column\": \"housing_median_age\",\n      \"properties\": {\n        \"dtype\": \"number\",\n        \"std\": 12.555395554955755,\n        \"min\": 1.0,\n        \"max\": 52.0,\n        \"num_unique_values\": 52,\n        \"samples\": [\n          14.0,\n          49.0,\n          7.0\n        ],\n        \"semantic_type\": \"\",\n        \"description\": \"\"\n      }\n    },\n    {\n      \"column\": \"total_rooms\",\n      \"properties\": {\n        \"dtype\": \"number\",\n        \"std\": 2155.59333162558,\n        \"min\": 6.0,\n        \"max\": 30450.0,\n        \"num_unique_values\": 2215,\n        \"samples\": [\n          1961.0,\n          1807.0,\n          680.0\n        ],\n        \"semantic_type\": \"\",\n        \"description\": \"\"\n      }\n    },\n    {\n      \"column\": \"total_bedrooms\",\n      \"properties\": {\n        \"dtype\": \"number\",\n        \"std\": 415.6543681363232,\n        \"min\": 2.0,\n        \"max\": 5419.0,\n        \"num_unique_values\": 1055,\n        \"samples\": [\n          532.0,\n          764.0,\n          2162.0\n        ],\n        \"semantic_type\": \"\",\n        \"description\": \"\"\n      }\n    },\n    {\n      \"column\": \"population\",\n      \"properties\": {\n        \"dtype\": \"number\",\n        \"std\": 1030.5430124122422,\n        \"min\": 5.0,\n        \"max\": 11935.0,\n        \"num_unique_values\": 1802,\n        \"samples\": [\n          947.0,\n          1140.0,\n          2019.0\n        ],\n        \"semantic_type\": \"\",\n        \"description\": \"\"\n      }\n    },\n    {\n      \"column\": \"households\",\n      \"properties\": {\n        \"dtype\": \"number\",\n        \"std\": 365.42270980552604,\n        \"min\": 2.0,\n        \"max\": 4930.0,\n        \"num_unique_values\": 1026,\n        \"samples\": [\n          646.0,\n          629.0,\n          504.0\n        ],\n        \"semantic_type\": \"\",\n        \"description\": \"\"\n      }\n    },\n    {\n      \"column\": \"median_income\",\n      \"properties\": {\n        \"dtype\": \"number\",\n        \"std\": 1.854511729691481,\n        \"min\": 0.4999,\n        \"max\": 15.0001,\n        \"num_unique_values\": 2578,\n        \"samples\": [\n          1.725,\n          0.7403,\n          2.6964\n        ],\n        \"semantic_type\": \"\",\n        \"description\": \"\"\n      }\n    },\n    {\n      \"column\": \"median_house_value\",\n      \"properties\": {\n        \"dtype\": \"number\",\n        \"std\": 113119.68746964433,\n        \"min\": 22500.0,\n        \"max\": 500001.0,\n        \"num_unique_values\": 1784,\n        \"samples\": [\n          71900.0,\n          63000.0,\n          115800.0\n        ],\n        \"semantic_type\": \"\",\n        \"description\": \"\"\n      }\n    }\n  ]\n}"
            }
          },
          "metadata": {},
          "execution_count": 15
        }
      ]
    },
    {
      "cell_type": "markdown",
      "source": [
        "To read the other data we will need to mount our drives. Essentially you are just permitting the file to access your drive."
      ],
      "metadata": {
        "id": "17A5ZgHz_8w3"
      }
    },
    {
      "cell_type": "markdown",
      "source": [
        "Place the .csv file in your drive, make sure you know where if you put it in a specific folder!"
      ],
      "metadata": {
        "id": "mm_iZaIfBey8"
      }
    },
    {
      "cell_type": "code",
      "source": [
        "from google.colab import drive\n",
        "drive.mount('/content/drive/')"
      ],
      "metadata": {
        "colab": {
          "base_uri": "https://localhost:8080/"
        },
        "id": "EBHKndgV--ks",
        "outputId": "ce3df9cc-48e9-4d64-86b8-084959ae7abe"
      },
      "execution_count": null,
      "outputs": [
        {
          "output_type": "stream",
          "name": "stdout",
          "text": [
            "Mounted at /content/drive/\n"
          ]
        }
      ]
    },
    {
      "cell_type": "code",
      "source": [
        "df = pd.read_csv(\"/content/drive/MyDrive/worldcities.csv\")"
      ],
      "metadata": {
        "id": "QWISETWPA70S"
      },
      "execution_count": null,
      "outputs": []
    },
    {
      "cell_type": "code",
      "source": [
        "df.head() #return the first few rows"
      ],
      "metadata": {
        "colab": {
          "base_uri": "https://localhost:8080/",
          "height": 206
        },
        "id": "BXqzPTp-BG5e",
        "outputId": "f23de163-d13b-4128-c7ab-4d9bf62e2aff"
      },
      "execution_count": null,
      "outputs": [
        {
          "output_type": "execute_result",
          "data": {
            "text/plain": [
              "          city   city_ascii      lat       lng        country iso2 iso3  \\\n",
              "0        Tokyo        Tokyo  35.6850  139.7514          Japan   JP  JPN   \n",
              "1     New York     New York  40.6943  -73.9249  United States   US  USA   \n",
              "2  Mexico City  Mexico City  19.4424  -99.1310         Mexico   MX  MEX   \n",
              "3       Mumbai       Mumbai  19.0170   72.8570          India   IN  IND   \n",
              "4    São Paulo    Sao Paulo -23.5587  -46.6250         Brazil   BR  BRA   \n",
              "\n",
              "         admin_name  capital  population          id  \n",
              "0             Tōkyō  primary  35676000.0  1392685764  \n",
              "1          New York      NaN  19354922.0  1840034016  \n",
              "2  Ciudad de México  primary  19028000.0  1484247881  \n",
              "3       Mahārāshtra    admin  18978000.0  1356226629  \n",
              "4         São Paulo    admin  18845000.0  1076532519  "
            ],
            "text/html": [
              "\n",
              "  <div id=\"df-b90e797f-c054-4c2e-99bd-d460b38f3742\" class=\"colab-df-container\">\n",
              "    <div>\n",
              "<style scoped>\n",
              "    .dataframe tbody tr th:only-of-type {\n",
              "        vertical-align: middle;\n",
              "    }\n",
              "\n",
              "    .dataframe tbody tr th {\n",
              "        vertical-align: top;\n",
              "    }\n",
              "\n",
              "    .dataframe thead th {\n",
              "        text-align: right;\n",
              "    }\n",
              "</style>\n",
              "<table border=\"1\" class=\"dataframe\">\n",
              "  <thead>\n",
              "    <tr style=\"text-align: right;\">\n",
              "      <th></th>\n",
              "      <th>city</th>\n",
              "      <th>city_ascii</th>\n",
              "      <th>lat</th>\n",
              "      <th>lng</th>\n",
              "      <th>country</th>\n",
              "      <th>iso2</th>\n",
              "      <th>iso3</th>\n",
              "      <th>admin_name</th>\n",
              "      <th>capital</th>\n",
              "      <th>population</th>\n",
              "      <th>id</th>\n",
              "    </tr>\n",
              "  </thead>\n",
              "  <tbody>\n",
              "    <tr>\n",
              "      <th>0</th>\n",
              "      <td>Tokyo</td>\n",
              "      <td>Tokyo</td>\n",
              "      <td>35.6850</td>\n",
              "      <td>139.7514</td>\n",
              "      <td>Japan</td>\n",
              "      <td>JP</td>\n",
              "      <td>JPN</td>\n",
              "      <td>Tōkyō</td>\n",
              "      <td>primary</td>\n",
              "      <td>35676000.0</td>\n",
              "      <td>1392685764</td>\n",
              "    </tr>\n",
              "    <tr>\n",
              "      <th>1</th>\n",
              "      <td>New York</td>\n",
              "      <td>New York</td>\n",
              "      <td>40.6943</td>\n",
              "      <td>-73.9249</td>\n",
              "      <td>United States</td>\n",
              "      <td>US</td>\n",
              "      <td>USA</td>\n",
              "      <td>New York</td>\n",
              "      <td>NaN</td>\n",
              "      <td>19354922.0</td>\n",
              "      <td>1840034016</td>\n",
              "    </tr>\n",
              "    <tr>\n",
              "      <th>2</th>\n",
              "      <td>Mexico City</td>\n",
              "      <td>Mexico City</td>\n",
              "      <td>19.4424</td>\n",
              "      <td>-99.1310</td>\n",
              "      <td>Mexico</td>\n",
              "      <td>MX</td>\n",
              "      <td>MEX</td>\n",
              "      <td>Ciudad de México</td>\n",
              "      <td>primary</td>\n",
              "      <td>19028000.0</td>\n",
              "      <td>1484247881</td>\n",
              "    </tr>\n",
              "    <tr>\n",
              "      <th>3</th>\n",
              "      <td>Mumbai</td>\n",
              "      <td>Mumbai</td>\n",
              "      <td>19.0170</td>\n",
              "      <td>72.8570</td>\n",
              "      <td>India</td>\n",
              "      <td>IN</td>\n",
              "      <td>IND</td>\n",
              "      <td>Mahārāshtra</td>\n",
              "      <td>admin</td>\n",
              "      <td>18978000.0</td>\n",
              "      <td>1356226629</td>\n",
              "    </tr>\n",
              "    <tr>\n",
              "      <th>4</th>\n",
              "      <td>São Paulo</td>\n",
              "      <td>Sao Paulo</td>\n",
              "      <td>-23.5587</td>\n",
              "      <td>-46.6250</td>\n",
              "      <td>Brazil</td>\n",
              "      <td>BR</td>\n",
              "      <td>BRA</td>\n",
              "      <td>São Paulo</td>\n",
              "      <td>admin</td>\n",
              "      <td>18845000.0</td>\n",
              "      <td>1076532519</td>\n",
              "    </tr>\n",
              "  </tbody>\n",
              "</table>\n",
              "</div>\n",
              "    <div class=\"colab-df-buttons\">\n",
              "\n",
              "  <div class=\"colab-df-container\">\n",
              "    <button class=\"colab-df-convert\" onclick=\"convertToInteractive('df-b90e797f-c054-4c2e-99bd-d460b38f3742')\"\n",
              "            title=\"Convert this dataframe to an interactive table.\"\n",
              "            style=\"display:none;\">\n",
              "\n",
              "  <svg xmlns=\"http://www.w3.org/2000/svg\" height=\"24px\" viewBox=\"0 -960 960 960\">\n",
              "    <path d=\"M120-120v-720h720v720H120Zm60-500h600v-160H180v160Zm220 220h160v-160H400v160Zm0 220h160v-160H400v160ZM180-400h160v-160H180v160Zm440 0h160v-160H620v160ZM180-180h160v-160H180v160Zm440 0h160v-160H620v160Z\"/>\n",
              "  </svg>\n",
              "    </button>\n",
              "\n",
              "  <style>\n",
              "    .colab-df-container {\n",
              "      display:flex;\n",
              "      gap: 12px;\n",
              "    }\n",
              "\n",
              "    .colab-df-convert {\n",
              "      background-color: #E8F0FE;\n",
              "      border: none;\n",
              "      border-radius: 50%;\n",
              "      cursor: pointer;\n",
              "      display: none;\n",
              "      fill: #1967D2;\n",
              "      height: 32px;\n",
              "      padding: 0 0 0 0;\n",
              "      width: 32px;\n",
              "    }\n",
              "\n",
              "    .colab-df-convert:hover {\n",
              "      background-color: #E2EBFA;\n",
              "      box-shadow: 0px 1px 2px rgba(60, 64, 67, 0.3), 0px 1px 3px 1px rgba(60, 64, 67, 0.15);\n",
              "      fill: #174EA6;\n",
              "    }\n",
              "\n",
              "    .colab-df-buttons div {\n",
              "      margin-bottom: 4px;\n",
              "    }\n",
              "\n",
              "    [theme=dark] .colab-df-convert {\n",
              "      background-color: #3B4455;\n",
              "      fill: #D2E3FC;\n",
              "    }\n",
              "\n",
              "    [theme=dark] .colab-df-convert:hover {\n",
              "      background-color: #434B5C;\n",
              "      box-shadow: 0px 1px 3px 1px rgba(0, 0, 0, 0.15);\n",
              "      filter: drop-shadow(0px 1px 2px rgba(0, 0, 0, 0.3));\n",
              "      fill: #FFFFFF;\n",
              "    }\n",
              "  </style>\n",
              "\n",
              "    <script>\n",
              "      const buttonEl =\n",
              "        document.querySelector('#df-b90e797f-c054-4c2e-99bd-d460b38f3742 button.colab-df-convert');\n",
              "      buttonEl.style.display =\n",
              "        google.colab.kernel.accessAllowed ? 'block' : 'none';\n",
              "\n",
              "      async function convertToInteractive(key) {\n",
              "        const element = document.querySelector('#df-b90e797f-c054-4c2e-99bd-d460b38f3742');\n",
              "        const dataTable =\n",
              "          await google.colab.kernel.invokeFunction('convertToInteractive',\n",
              "                                                    [key], {});\n",
              "        if (!dataTable) return;\n",
              "\n",
              "        const docLinkHtml = 'Like what you see? Visit the ' +\n",
              "          '<a target=\"_blank\" href=https://colab.research.google.com/notebooks/data_table.ipynb>data table notebook</a>'\n",
              "          + ' to learn more about interactive tables.';\n",
              "        element.innerHTML = '';\n",
              "        dataTable['output_type'] = 'display_data';\n",
              "        await google.colab.output.renderOutput(dataTable, element);\n",
              "        const docLink = document.createElement('div');\n",
              "        docLink.innerHTML = docLinkHtml;\n",
              "        element.appendChild(docLink);\n",
              "      }\n",
              "    </script>\n",
              "  </div>\n",
              "\n",
              "\n",
              "    <div id=\"df-7a498ee1-329d-4877-84d6-78aa232222d3\">\n",
              "      <button class=\"colab-df-quickchart\" onclick=\"quickchart('df-7a498ee1-329d-4877-84d6-78aa232222d3')\"\n",
              "                title=\"Suggest charts\"\n",
              "                style=\"display:none;\">\n",
              "\n",
              "<svg xmlns=\"http://www.w3.org/2000/svg\" height=\"24px\"viewBox=\"0 0 24 24\"\n",
              "     width=\"24px\">\n",
              "    <g>\n",
              "        <path d=\"M19 3H5c-1.1 0-2 .9-2 2v14c0 1.1.9 2 2 2h14c1.1 0 2-.9 2-2V5c0-1.1-.9-2-2-2zM9 17H7v-7h2v7zm4 0h-2V7h2v10zm4 0h-2v-4h2v4z\"/>\n",
              "    </g>\n",
              "</svg>\n",
              "      </button>\n",
              "\n",
              "<style>\n",
              "  .colab-df-quickchart {\n",
              "      --bg-color: #E8F0FE;\n",
              "      --fill-color: #1967D2;\n",
              "      --hover-bg-color: #E2EBFA;\n",
              "      --hover-fill-color: #174EA6;\n",
              "      --disabled-fill-color: #AAA;\n",
              "      --disabled-bg-color: #DDD;\n",
              "  }\n",
              "\n",
              "  [theme=dark] .colab-df-quickchart {\n",
              "      --bg-color: #3B4455;\n",
              "      --fill-color: #D2E3FC;\n",
              "      --hover-bg-color: #434B5C;\n",
              "      --hover-fill-color: #FFFFFF;\n",
              "      --disabled-bg-color: #3B4455;\n",
              "      --disabled-fill-color: #666;\n",
              "  }\n",
              "\n",
              "  .colab-df-quickchart {\n",
              "    background-color: var(--bg-color);\n",
              "    border: none;\n",
              "    border-radius: 50%;\n",
              "    cursor: pointer;\n",
              "    display: none;\n",
              "    fill: var(--fill-color);\n",
              "    height: 32px;\n",
              "    padding: 0;\n",
              "    width: 32px;\n",
              "  }\n",
              "\n",
              "  .colab-df-quickchart:hover {\n",
              "    background-color: var(--hover-bg-color);\n",
              "    box-shadow: 0 1px 2px rgba(60, 64, 67, 0.3), 0 1px 3px 1px rgba(60, 64, 67, 0.15);\n",
              "    fill: var(--button-hover-fill-color);\n",
              "  }\n",
              "\n",
              "  .colab-df-quickchart-complete:disabled,\n",
              "  .colab-df-quickchart-complete:disabled:hover {\n",
              "    background-color: var(--disabled-bg-color);\n",
              "    fill: var(--disabled-fill-color);\n",
              "    box-shadow: none;\n",
              "  }\n",
              "\n",
              "  .colab-df-spinner {\n",
              "    border: 2px solid var(--fill-color);\n",
              "    border-color: transparent;\n",
              "    border-bottom-color: var(--fill-color);\n",
              "    animation:\n",
              "      spin 1s steps(1) infinite;\n",
              "  }\n",
              "\n",
              "  @keyframes spin {\n",
              "    0% {\n",
              "      border-color: transparent;\n",
              "      border-bottom-color: var(--fill-color);\n",
              "      border-left-color: var(--fill-color);\n",
              "    }\n",
              "    20% {\n",
              "      border-color: transparent;\n",
              "      border-left-color: var(--fill-color);\n",
              "      border-top-color: var(--fill-color);\n",
              "    }\n",
              "    30% {\n",
              "      border-color: transparent;\n",
              "      border-left-color: var(--fill-color);\n",
              "      border-top-color: var(--fill-color);\n",
              "      border-right-color: var(--fill-color);\n",
              "    }\n",
              "    40% {\n",
              "      border-color: transparent;\n",
              "      border-right-color: var(--fill-color);\n",
              "      border-top-color: var(--fill-color);\n",
              "    }\n",
              "    60% {\n",
              "      border-color: transparent;\n",
              "      border-right-color: var(--fill-color);\n",
              "    }\n",
              "    80% {\n",
              "      border-color: transparent;\n",
              "      border-right-color: var(--fill-color);\n",
              "      border-bottom-color: var(--fill-color);\n",
              "    }\n",
              "    90% {\n",
              "      border-color: transparent;\n",
              "      border-bottom-color: var(--fill-color);\n",
              "    }\n",
              "  }\n",
              "</style>\n",
              "\n",
              "      <script>\n",
              "        async function quickchart(key) {\n",
              "          const quickchartButtonEl =\n",
              "            document.querySelector('#' + key + ' button');\n",
              "          quickchartButtonEl.disabled = true;  // To prevent multiple clicks.\n",
              "          quickchartButtonEl.classList.add('colab-df-spinner');\n",
              "          try {\n",
              "            const charts = await google.colab.kernel.invokeFunction(\n",
              "                'suggestCharts', [key], {});\n",
              "          } catch (error) {\n",
              "            console.error('Error during call to suggestCharts:', error);\n",
              "          }\n",
              "          quickchartButtonEl.classList.remove('colab-df-spinner');\n",
              "          quickchartButtonEl.classList.add('colab-df-quickchart-complete');\n",
              "        }\n",
              "        (() => {\n",
              "          let quickchartButtonEl =\n",
              "            document.querySelector('#df-7a498ee1-329d-4877-84d6-78aa232222d3 button');\n",
              "          quickchartButtonEl.style.display =\n",
              "            google.colab.kernel.accessAllowed ? 'block' : 'none';\n",
              "        })();\n",
              "      </script>\n",
              "    </div>\n",
              "\n",
              "    </div>\n",
              "  </div>\n"
            ],
            "application/vnd.google.colaboratory.intrinsic+json": {
              "type": "dataframe",
              "variable_name": "df",
              "summary": "{\n  \"name\": \"df\",\n  \"rows\": 15493,\n  \"fields\": [\n    {\n      \"column\": \"city\",\n      \"properties\": {\n        \"dtype\": \"string\",\n        \"num_unique_values\": 13504,\n        \"samples\": [\n          \"Woomera\",\n          \"Para\\u00edso\",\n          \"Heidelberg\"\n        ],\n        \"semantic_type\": \"\",\n        \"description\": \"\"\n      }\n    },\n    {\n      \"column\": \"city_ascii\",\n      \"properties\": {\n        \"dtype\": \"string\",\n        \"num_unique_values\": 13482,\n        \"samples\": [\n          \"Kapolei\",\n          \"Minden\",\n          \"Nusaybin\"\n        ],\n        \"semantic_type\": \"\",\n        \"description\": \"\"\n      }\n    },\n    {\n      \"column\": \"lat\",\n      \"properties\": {\n        \"dtype\": \"number\",\n        \"std\": 22.414726799455394,\n        \"min\": -54.9333,\n        \"max\": 82.4833,\n        \"num_unique_values\": 14796,\n        \"samples\": [\n          44.3838,\n          39.2092,\n          41.0435\n        ],\n        \"semantic_type\": \"\",\n        \"description\": \"\"\n      }\n    },\n    {\n      \"column\": \"lng\",\n      \"properties\": {\n        \"dtype\": \"number\",\n        \"std\": 76.34045677639524,\n        \"min\": -179.59,\n        \"max\": 179.3833,\n        \"num_unique_values\": 14945,\n        \"samples\": [\n          14.0669,\n          174.9123,\n          152.2606\n        ],\n        \"semantic_type\": \"\",\n        \"description\": \"\"\n      }\n    },\n    {\n      \"column\": \"country\",\n      \"properties\": {\n        \"dtype\": \"category\",\n        \"num_unique_values\": 223,\n        \"samples\": [\n          \"Egypt\",\n          \"Mozambique\",\n          \"Albania\"\n        ],\n        \"semantic_type\": \"\",\n        \"description\": \"\"\n      }\n    },\n    {\n      \"column\": \"iso2\",\n      \"properties\": {\n        \"dtype\": \"category\",\n        \"num_unique_values\": 222,\n        \"samples\": [\n          \"BS\",\n          \"BM\",\n          \"NG\"\n        ],\n        \"semantic_type\": \"\",\n        \"description\": \"\"\n      }\n    },\n    {\n      \"column\": \"iso3\",\n      \"properties\": {\n        \"dtype\": \"category\",\n        \"num_unique_values\": 223,\n        \"samples\": [\n          \"EGY\",\n          \"MOZ\",\n          \"ALB\"\n        ],\n        \"semantic_type\": \"\",\n        \"description\": \"\"\n      }\n    },\n    {\n      \"column\": \"admin_name\",\n      \"properties\": {\n        \"dtype\": \"category\",\n        \"num_unique_values\": 3949,\n        \"samples\": [\n          \"Obiliq\",\n          \"Quich\\u00e9\",\n          \"Lop Buri\"\n        ],\n        \"semantic_type\": \"\",\n        \"description\": \"\"\n      }\n    },\n    {\n      \"column\": \"capital\",\n      \"properties\": {\n        \"dtype\": \"category\",\n        \"num_unique_values\": 3,\n        \"samples\": [\n          \"primary\",\n          \"admin\",\n          \"minor\"\n        ],\n        \"semantic_type\": \"\",\n        \"description\": \"\"\n      }\n    },\n    {\n      \"column\": \"population\",\n      \"properties\": {\n        \"dtype\": \"number\",\n        \"std\": 794798.898920796,\n        \"min\": 0.0,\n        \"max\": 35676000.0,\n        \"num_unique_values\": 12150,\n        \"samples\": [\n          12023.0,\n          17776.0,\n          234684.0\n        ],\n        \"semantic_type\": \"\",\n        \"description\": \"\"\n      }\n    },\n    {\n      \"column\": \"id\",\n      \"properties\": {\n        \"dtype\": \"number\",\n        \"std\": 282645149,\n        \"min\": 1004003059,\n        \"max\": 1934000006,\n        \"num_unique_values\": 15493,\n        \"samples\": [\n          1076000206,\n          1076587749,\n          1840004326\n        ],\n        \"semantic_type\": \"\",\n        \"description\": \"\"\n      }\n    }\n  ]\n}"
            }
          },
          "metadata": {},
          "execution_count": 20
        }
      ]
    },
    {
      "cell_type": "code",
      "source": [
        "df.info() #return some metadata about the dataframe"
      ],
      "metadata": {
        "colab": {
          "base_uri": "https://localhost:8080/"
        },
        "id": "WRb-1G_NBxW0",
        "outputId": "8b72e152-bd3b-42d4-b0f1-27f6f576a05f"
      },
      "execution_count": null,
      "outputs": [
        {
          "output_type": "stream",
          "name": "stdout",
          "text": [
            "<class 'pandas.core.frame.DataFrame'>\n",
            "RangeIndex: 15493 entries, 0 to 15492\n",
            "Data columns (total 11 columns):\n",
            " #   Column      Non-Null Count  Dtype  \n",
            "---  ------      --------------  -----  \n",
            " 0   city        15493 non-null  object \n",
            " 1   city_ascii  15493 non-null  object \n",
            " 2   lat         15493 non-null  float64\n",
            " 3   lng         15493 non-null  float64\n",
            " 4   country     15493 non-null  object \n",
            " 5   iso2        15462 non-null  object \n",
            " 6   iso3        15493 non-null  object \n",
            " 7   admin_name  15302 non-null  object \n",
            " 8   capital     5246 non-null   object \n",
            " 9   population  13808 non-null  float64\n",
            " 10  id          15493 non-null  int64  \n",
            "dtypes: float64(3), int64(1), object(7)\n",
            "memory usage: 1.3+ MB\n"
          ]
        }
      ]
    },
    {
      "cell_type": "markdown",
      "source": [
        "####Boolean Filtering"
      ],
      "metadata": {
        "id": "lDBEuxtSC0I1"
      }
    },
    {
      "cell_type": "code",
      "source": [
        "Country = \"United Kingdom\"\n",
        "\n",
        "filtered_df_UK = df[df['country'] == Country]\n",
        "filtered_df_UK"
      ],
      "metadata": {
        "colab": {
          "base_uri": "https://localhost:8080/",
          "height": 424
        },
        "id": "jTOXiNfwB8_2",
        "outputId": "c8960cb3-8266-44a9-ccbf-516b38b8ce2d"
      },
      "execution_count": null,
      "outputs": [
        {
          "output_type": "execute_result",
          "data": {
            "text/plain": [
              "                city     city_ascii      lat     lng         country iso2  \\\n",
              "25            London         London  51.5000 -0.1167  United Kingdom   GB   \n",
              "177       Birmingham     Birmingham  52.4750 -1.9200  United Kingdom   GB   \n",
              "181       Manchester     Manchester  53.5004 -2.2480  United Kingdom   GB   \n",
              "297            Leeds          Leeds  53.8300 -1.5800  United Kingdom   GB   \n",
              "372        Sheffield      Sheffield  53.3667 -1.5000  United Kingdom   GB   \n",
              "...              ...            ...      ...     ...             ...  ...   \n",
              "6910      Haddington     Haddington  55.9333 -2.7667  United Kingdom   GB   \n",
              "6919   Kirkintilloch  Kirkintilloch  55.9167 -4.1667  United Kingdom   GB   \n",
              "6969    Lochgilphead   Lochgilphead  56.0333 -5.4167  United Kingdom   GB   \n",
              "7021         Torquay        Torquay  50.4500 -3.5000  United Kingdom   GB   \n",
              "13087           Wick           Wick  58.4333 -3.0834  United Kingdom   GB   \n",
              "\n",
              "      iso3           admin_name  capital  population          id  \n",
              "25     GBR      London, City of  primary   8567000.0  1826645935  \n",
              "177    GBR           Birmingham    admin   2285000.0  1826423213  \n",
              "181    GBR           Manchester    admin   2230000.0  1826246335  \n",
              "297    GBR                Leeds    admin   1529000.0  1826343963  \n",
              "372    GBR            Sheffield    admin   1292900.0  1826289852  \n",
              "...    ...                  ...      ...         ...         ...  \n",
              "6910   GBR         East Lothian    admin         NaN  1826363081  \n",
              "6919   GBR  East Dunbartonshire    admin         NaN  1826571447  \n",
              "6969   GBR      Argyll and Bute    admin         NaN  1826789416  \n",
              "7021   GBR               Torbay    admin         NaN  1826982921  \n",
              "13087  GBR             Highland      NaN      7147.0  1826766399  \n",
              "\n",
              "[228 rows x 11 columns]"
            ],
            "text/html": [
              "\n",
              "  <div id=\"df-1b505e37-69ec-471c-a81a-42da06769eb6\" class=\"colab-df-container\">\n",
              "    <div>\n",
              "<style scoped>\n",
              "    .dataframe tbody tr th:only-of-type {\n",
              "        vertical-align: middle;\n",
              "    }\n",
              "\n",
              "    .dataframe tbody tr th {\n",
              "        vertical-align: top;\n",
              "    }\n",
              "\n",
              "    .dataframe thead th {\n",
              "        text-align: right;\n",
              "    }\n",
              "</style>\n",
              "<table border=\"1\" class=\"dataframe\">\n",
              "  <thead>\n",
              "    <tr style=\"text-align: right;\">\n",
              "      <th></th>\n",
              "      <th>city</th>\n",
              "      <th>city_ascii</th>\n",
              "      <th>lat</th>\n",
              "      <th>lng</th>\n",
              "      <th>country</th>\n",
              "      <th>iso2</th>\n",
              "      <th>iso3</th>\n",
              "      <th>admin_name</th>\n",
              "      <th>capital</th>\n",
              "      <th>population</th>\n",
              "      <th>id</th>\n",
              "    </tr>\n",
              "  </thead>\n",
              "  <tbody>\n",
              "    <tr>\n",
              "      <th>25</th>\n",
              "      <td>London</td>\n",
              "      <td>London</td>\n",
              "      <td>51.5000</td>\n",
              "      <td>-0.1167</td>\n",
              "      <td>United Kingdom</td>\n",
              "      <td>GB</td>\n",
              "      <td>GBR</td>\n",
              "      <td>London, City of</td>\n",
              "      <td>primary</td>\n",
              "      <td>8567000.0</td>\n",
              "      <td>1826645935</td>\n",
              "    </tr>\n",
              "    <tr>\n",
              "      <th>177</th>\n",
              "      <td>Birmingham</td>\n",
              "      <td>Birmingham</td>\n",
              "      <td>52.4750</td>\n",
              "      <td>-1.9200</td>\n",
              "      <td>United Kingdom</td>\n",
              "      <td>GB</td>\n",
              "      <td>GBR</td>\n",
              "      <td>Birmingham</td>\n",
              "      <td>admin</td>\n",
              "      <td>2285000.0</td>\n",
              "      <td>1826423213</td>\n",
              "    </tr>\n",
              "    <tr>\n",
              "      <th>181</th>\n",
              "      <td>Manchester</td>\n",
              "      <td>Manchester</td>\n",
              "      <td>53.5004</td>\n",
              "      <td>-2.2480</td>\n",
              "      <td>United Kingdom</td>\n",
              "      <td>GB</td>\n",
              "      <td>GBR</td>\n",
              "      <td>Manchester</td>\n",
              "      <td>admin</td>\n",
              "      <td>2230000.0</td>\n",
              "      <td>1826246335</td>\n",
              "    </tr>\n",
              "    <tr>\n",
              "      <th>297</th>\n",
              "      <td>Leeds</td>\n",
              "      <td>Leeds</td>\n",
              "      <td>53.8300</td>\n",
              "      <td>-1.5800</td>\n",
              "      <td>United Kingdom</td>\n",
              "      <td>GB</td>\n",
              "      <td>GBR</td>\n",
              "      <td>Leeds</td>\n",
              "      <td>admin</td>\n",
              "      <td>1529000.0</td>\n",
              "      <td>1826343963</td>\n",
              "    </tr>\n",
              "    <tr>\n",
              "      <th>372</th>\n",
              "      <td>Sheffield</td>\n",
              "      <td>Sheffield</td>\n",
              "      <td>53.3667</td>\n",
              "      <td>-1.5000</td>\n",
              "      <td>United Kingdom</td>\n",
              "      <td>GB</td>\n",
              "      <td>GBR</td>\n",
              "      <td>Sheffield</td>\n",
              "      <td>admin</td>\n",
              "      <td>1292900.0</td>\n",
              "      <td>1826289852</td>\n",
              "    </tr>\n",
              "    <tr>\n",
              "      <th>...</th>\n",
              "      <td>...</td>\n",
              "      <td>...</td>\n",
              "      <td>...</td>\n",
              "      <td>...</td>\n",
              "      <td>...</td>\n",
              "      <td>...</td>\n",
              "      <td>...</td>\n",
              "      <td>...</td>\n",
              "      <td>...</td>\n",
              "      <td>...</td>\n",
              "      <td>...</td>\n",
              "    </tr>\n",
              "    <tr>\n",
              "      <th>6910</th>\n",
              "      <td>Haddington</td>\n",
              "      <td>Haddington</td>\n",
              "      <td>55.9333</td>\n",
              "      <td>-2.7667</td>\n",
              "      <td>United Kingdom</td>\n",
              "      <td>GB</td>\n",
              "      <td>GBR</td>\n",
              "      <td>East Lothian</td>\n",
              "      <td>admin</td>\n",
              "      <td>NaN</td>\n",
              "      <td>1826363081</td>\n",
              "    </tr>\n",
              "    <tr>\n",
              "      <th>6919</th>\n",
              "      <td>Kirkintilloch</td>\n",
              "      <td>Kirkintilloch</td>\n",
              "      <td>55.9167</td>\n",
              "      <td>-4.1667</td>\n",
              "      <td>United Kingdom</td>\n",
              "      <td>GB</td>\n",
              "      <td>GBR</td>\n",
              "      <td>East Dunbartonshire</td>\n",
              "      <td>admin</td>\n",
              "      <td>NaN</td>\n",
              "      <td>1826571447</td>\n",
              "    </tr>\n",
              "    <tr>\n",
              "      <th>6969</th>\n",
              "      <td>Lochgilphead</td>\n",
              "      <td>Lochgilphead</td>\n",
              "      <td>56.0333</td>\n",
              "      <td>-5.4167</td>\n",
              "      <td>United Kingdom</td>\n",
              "      <td>GB</td>\n",
              "      <td>GBR</td>\n",
              "      <td>Argyll and Bute</td>\n",
              "      <td>admin</td>\n",
              "      <td>NaN</td>\n",
              "      <td>1826789416</td>\n",
              "    </tr>\n",
              "    <tr>\n",
              "      <th>7021</th>\n",
              "      <td>Torquay</td>\n",
              "      <td>Torquay</td>\n",
              "      <td>50.4500</td>\n",
              "      <td>-3.5000</td>\n",
              "      <td>United Kingdom</td>\n",
              "      <td>GB</td>\n",
              "      <td>GBR</td>\n",
              "      <td>Torbay</td>\n",
              "      <td>admin</td>\n",
              "      <td>NaN</td>\n",
              "      <td>1826982921</td>\n",
              "    </tr>\n",
              "    <tr>\n",
              "      <th>13087</th>\n",
              "      <td>Wick</td>\n",
              "      <td>Wick</td>\n",
              "      <td>58.4333</td>\n",
              "      <td>-3.0834</td>\n",
              "      <td>United Kingdom</td>\n",
              "      <td>GB</td>\n",
              "      <td>GBR</td>\n",
              "      <td>Highland</td>\n",
              "      <td>NaN</td>\n",
              "      <td>7147.0</td>\n",
              "      <td>1826766399</td>\n",
              "    </tr>\n",
              "  </tbody>\n",
              "</table>\n",
              "<p>228 rows × 11 columns</p>\n",
              "</div>\n",
              "    <div class=\"colab-df-buttons\">\n",
              "\n",
              "  <div class=\"colab-df-container\">\n",
              "    <button class=\"colab-df-convert\" onclick=\"convertToInteractive('df-1b505e37-69ec-471c-a81a-42da06769eb6')\"\n",
              "            title=\"Convert this dataframe to an interactive table.\"\n",
              "            style=\"display:none;\">\n",
              "\n",
              "  <svg xmlns=\"http://www.w3.org/2000/svg\" height=\"24px\" viewBox=\"0 -960 960 960\">\n",
              "    <path d=\"M120-120v-720h720v720H120Zm60-500h600v-160H180v160Zm220 220h160v-160H400v160Zm0 220h160v-160H400v160ZM180-400h160v-160H180v160Zm440 0h160v-160H620v160ZM180-180h160v-160H180v160Zm440 0h160v-160H620v160Z\"/>\n",
              "  </svg>\n",
              "    </button>\n",
              "\n",
              "  <style>\n",
              "    .colab-df-container {\n",
              "      display:flex;\n",
              "      gap: 12px;\n",
              "    }\n",
              "\n",
              "    .colab-df-convert {\n",
              "      background-color: #E8F0FE;\n",
              "      border: none;\n",
              "      border-radius: 50%;\n",
              "      cursor: pointer;\n",
              "      display: none;\n",
              "      fill: #1967D2;\n",
              "      height: 32px;\n",
              "      padding: 0 0 0 0;\n",
              "      width: 32px;\n",
              "    }\n",
              "\n",
              "    .colab-df-convert:hover {\n",
              "      background-color: #E2EBFA;\n",
              "      box-shadow: 0px 1px 2px rgba(60, 64, 67, 0.3), 0px 1px 3px 1px rgba(60, 64, 67, 0.15);\n",
              "      fill: #174EA6;\n",
              "    }\n",
              "\n",
              "    .colab-df-buttons div {\n",
              "      margin-bottom: 4px;\n",
              "    }\n",
              "\n",
              "    [theme=dark] .colab-df-convert {\n",
              "      background-color: #3B4455;\n",
              "      fill: #D2E3FC;\n",
              "    }\n",
              "\n",
              "    [theme=dark] .colab-df-convert:hover {\n",
              "      background-color: #434B5C;\n",
              "      box-shadow: 0px 1px 3px 1px rgba(0, 0, 0, 0.15);\n",
              "      filter: drop-shadow(0px 1px 2px rgba(0, 0, 0, 0.3));\n",
              "      fill: #FFFFFF;\n",
              "    }\n",
              "  </style>\n",
              "\n",
              "    <script>\n",
              "      const buttonEl =\n",
              "        document.querySelector('#df-1b505e37-69ec-471c-a81a-42da06769eb6 button.colab-df-convert');\n",
              "      buttonEl.style.display =\n",
              "        google.colab.kernel.accessAllowed ? 'block' : 'none';\n",
              "\n",
              "      async function convertToInteractive(key) {\n",
              "        const element = document.querySelector('#df-1b505e37-69ec-471c-a81a-42da06769eb6');\n",
              "        const dataTable =\n",
              "          await google.colab.kernel.invokeFunction('convertToInteractive',\n",
              "                                                    [key], {});\n",
              "        if (!dataTable) return;\n",
              "\n",
              "        const docLinkHtml = 'Like what you see? Visit the ' +\n",
              "          '<a target=\"_blank\" href=https://colab.research.google.com/notebooks/data_table.ipynb>data table notebook</a>'\n",
              "          + ' to learn more about interactive tables.';\n",
              "        element.innerHTML = '';\n",
              "        dataTable['output_type'] = 'display_data';\n",
              "        await google.colab.output.renderOutput(dataTable, element);\n",
              "        const docLink = document.createElement('div');\n",
              "        docLink.innerHTML = docLinkHtml;\n",
              "        element.appendChild(docLink);\n",
              "      }\n",
              "    </script>\n",
              "  </div>\n",
              "\n",
              "\n",
              "    <div id=\"df-51c51582-ffca-4345-9b21-803c70a94142\">\n",
              "      <button class=\"colab-df-quickchart\" onclick=\"quickchart('df-51c51582-ffca-4345-9b21-803c70a94142')\"\n",
              "                title=\"Suggest charts\"\n",
              "                style=\"display:none;\">\n",
              "\n",
              "<svg xmlns=\"http://www.w3.org/2000/svg\" height=\"24px\"viewBox=\"0 0 24 24\"\n",
              "     width=\"24px\">\n",
              "    <g>\n",
              "        <path d=\"M19 3H5c-1.1 0-2 .9-2 2v14c0 1.1.9 2 2 2h14c1.1 0 2-.9 2-2V5c0-1.1-.9-2-2-2zM9 17H7v-7h2v7zm4 0h-2V7h2v10zm4 0h-2v-4h2v4z\"/>\n",
              "    </g>\n",
              "</svg>\n",
              "      </button>\n",
              "\n",
              "<style>\n",
              "  .colab-df-quickchart {\n",
              "      --bg-color: #E8F0FE;\n",
              "      --fill-color: #1967D2;\n",
              "      --hover-bg-color: #E2EBFA;\n",
              "      --hover-fill-color: #174EA6;\n",
              "      --disabled-fill-color: #AAA;\n",
              "      --disabled-bg-color: #DDD;\n",
              "  }\n",
              "\n",
              "  [theme=dark] .colab-df-quickchart {\n",
              "      --bg-color: #3B4455;\n",
              "      --fill-color: #D2E3FC;\n",
              "      --hover-bg-color: #434B5C;\n",
              "      --hover-fill-color: #FFFFFF;\n",
              "      --disabled-bg-color: #3B4455;\n",
              "      --disabled-fill-color: #666;\n",
              "  }\n",
              "\n",
              "  .colab-df-quickchart {\n",
              "    background-color: var(--bg-color);\n",
              "    border: none;\n",
              "    border-radius: 50%;\n",
              "    cursor: pointer;\n",
              "    display: none;\n",
              "    fill: var(--fill-color);\n",
              "    height: 32px;\n",
              "    padding: 0;\n",
              "    width: 32px;\n",
              "  }\n",
              "\n",
              "  .colab-df-quickchart:hover {\n",
              "    background-color: var(--hover-bg-color);\n",
              "    box-shadow: 0 1px 2px rgba(60, 64, 67, 0.3), 0 1px 3px 1px rgba(60, 64, 67, 0.15);\n",
              "    fill: var(--button-hover-fill-color);\n",
              "  }\n",
              "\n",
              "  .colab-df-quickchart-complete:disabled,\n",
              "  .colab-df-quickchart-complete:disabled:hover {\n",
              "    background-color: var(--disabled-bg-color);\n",
              "    fill: var(--disabled-fill-color);\n",
              "    box-shadow: none;\n",
              "  }\n",
              "\n",
              "  .colab-df-spinner {\n",
              "    border: 2px solid var(--fill-color);\n",
              "    border-color: transparent;\n",
              "    border-bottom-color: var(--fill-color);\n",
              "    animation:\n",
              "      spin 1s steps(1) infinite;\n",
              "  }\n",
              "\n",
              "  @keyframes spin {\n",
              "    0% {\n",
              "      border-color: transparent;\n",
              "      border-bottom-color: var(--fill-color);\n",
              "      border-left-color: var(--fill-color);\n",
              "    }\n",
              "    20% {\n",
              "      border-color: transparent;\n",
              "      border-left-color: var(--fill-color);\n",
              "      border-top-color: var(--fill-color);\n",
              "    }\n",
              "    30% {\n",
              "      border-color: transparent;\n",
              "      border-left-color: var(--fill-color);\n",
              "      border-top-color: var(--fill-color);\n",
              "      border-right-color: var(--fill-color);\n",
              "    }\n",
              "    40% {\n",
              "      border-color: transparent;\n",
              "      border-right-color: var(--fill-color);\n",
              "      border-top-color: var(--fill-color);\n",
              "    }\n",
              "    60% {\n",
              "      border-color: transparent;\n",
              "      border-right-color: var(--fill-color);\n",
              "    }\n",
              "    80% {\n",
              "      border-color: transparent;\n",
              "      border-right-color: var(--fill-color);\n",
              "      border-bottom-color: var(--fill-color);\n",
              "    }\n",
              "    90% {\n",
              "      border-color: transparent;\n",
              "      border-bottom-color: var(--fill-color);\n",
              "    }\n",
              "  }\n",
              "</style>\n",
              "\n",
              "      <script>\n",
              "        async function quickchart(key) {\n",
              "          const quickchartButtonEl =\n",
              "            document.querySelector('#' + key + ' button');\n",
              "          quickchartButtonEl.disabled = true;  // To prevent multiple clicks.\n",
              "          quickchartButtonEl.classList.add('colab-df-spinner');\n",
              "          try {\n",
              "            const charts = await google.colab.kernel.invokeFunction(\n",
              "                'suggestCharts', [key], {});\n",
              "          } catch (error) {\n",
              "            console.error('Error during call to suggestCharts:', error);\n",
              "          }\n",
              "          quickchartButtonEl.classList.remove('colab-df-spinner');\n",
              "          quickchartButtonEl.classList.add('colab-df-quickchart-complete');\n",
              "        }\n",
              "        (() => {\n",
              "          let quickchartButtonEl =\n",
              "            document.querySelector('#df-51c51582-ffca-4345-9b21-803c70a94142 button');\n",
              "          quickchartButtonEl.style.display =\n",
              "            google.colab.kernel.accessAllowed ? 'block' : 'none';\n",
              "        })();\n",
              "      </script>\n",
              "    </div>\n",
              "\n",
              "  <div id=\"id_2ae57a86-a254-4e9d-8448-e7c9c8e26645\">\n",
              "    <style>\n",
              "      .colab-df-generate {\n",
              "        background-color: #E8F0FE;\n",
              "        border: none;\n",
              "        border-radius: 50%;\n",
              "        cursor: pointer;\n",
              "        display: none;\n",
              "        fill: #1967D2;\n",
              "        height: 32px;\n",
              "        padding: 0 0 0 0;\n",
              "        width: 32px;\n",
              "      }\n",
              "\n",
              "      .colab-df-generate:hover {\n",
              "        background-color: #E2EBFA;\n",
              "        box-shadow: 0px 1px 2px rgba(60, 64, 67, 0.3), 0px 1px 3px 1px rgba(60, 64, 67, 0.15);\n",
              "        fill: #174EA6;\n",
              "      }\n",
              "\n",
              "      [theme=dark] .colab-df-generate {\n",
              "        background-color: #3B4455;\n",
              "        fill: #D2E3FC;\n",
              "      }\n",
              "\n",
              "      [theme=dark] .colab-df-generate:hover {\n",
              "        background-color: #434B5C;\n",
              "        box-shadow: 0px 1px 3px 1px rgba(0, 0, 0, 0.15);\n",
              "        filter: drop-shadow(0px 1px 2px rgba(0, 0, 0, 0.3));\n",
              "        fill: #FFFFFF;\n",
              "      }\n",
              "    </style>\n",
              "    <button class=\"colab-df-generate\" onclick=\"generateWithVariable('filtered_df_UK')\"\n",
              "            title=\"Generate code using this dataframe.\"\n",
              "            style=\"display:none;\">\n",
              "\n",
              "  <svg xmlns=\"http://www.w3.org/2000/svg\" height=\"24px\"viewBox=\"0 0 24 24\"\n",
              "       width=\"24px\">\n",
              "    <path d=\"M7,19H8.4L18.45,9,17,7.55,7,17.6ZM5,21V16.75L18.45,3.32a2,2,0,0,1,2.83,0l1.4,1.43a1.91,1.91,0,0,1,.58,1.4,1.91,1.91,0,0,1-.58,1.4L9.25,21ZM18.45,9,17,7.55Zm-12,3A5.31,5.31,0,0,0,4.9,8.1,5.31,5.31,0,0,0,1,6.5,5.31,5.31,0,0,0,4.9,4.9,5.31,5.31,0,0,0,6.5,1,5.31,5.31,0,0,0,8.1,4.9,5.31,5.31,0,0,0,12,6.5,5.46,5.46,0,0,0,6.5,12Z\"/>\n",
              "  </svg>\n",
              "    </button>\n",
              "    <script>\n",
              "      (() => {\n",
              "      const buttonEl =\n",
              "        document.querySelector('#id_2ae57a86-a254-4e9d-8448-e7c9c8e26645 button.colab-df-generate');\n",
              "      buttonEl.style.display =\n",
              "        google.colab.kernel.accessAllowed ? 'block' : 'none';\n",
              "\n",
              "      buttonEl.onclick = () => {\n",
              "        google.colab.notebook.generateWithVariable('filtered_df_UK');\n",
              "      }\n",
              "      })();\n",
              "    </script>\n",
              "  </div>\n",
              "\n",
              "    </div>\n",
              "  </div>\n"
            ],
            "application/vnd.google.colaboratory.intrinsic+json": {
              "type": "dataframe",
              "variable_name": "filtered_df_UK",
              "summary": "{\n  \"name\": \"filtered_df_UK\",\n  \"rows\": 228,\n  \"fields\": [\n    {\n      \"column\": \"city\",\n      \"properties\": {\n        \"dtype\": \"string\",\n        \"num_unique_values\": 226,\n        \"samples\": [\n          \"Liverpool\",\n          \"Rhuthun\",\n          \"Wokingham\"\n        ],\n        \"semantic_type\": \"\",\n        \"description\": \"\"\n      }\n    },\n    {\n      \"column\": \"city_ascii\",\n      \"properties\": {\n        \"dtype\": \"string\",\n        \"num_unique_values\": 226,\n        \"samples\": [\n          \"Liverpool\",\n          \"Rhuthun\",\n          \"Wokingham\"\n        ],\n        \"semantic_type\": \"\",\n        \"description\": \"\"\n      }\n    },\n    {\n      \"column\": \"lat\",\n      \"properties\": {\n        \"dtype\": \"number\",\n        \"std\": 1.8780821526922584,\n        \"min\": 49.9146,\n        \"max\": 60.15,\n        \"num_unique_values\": 186,\n        \"samples\": [\n          53.3833,\n          52.2333,\n          55.7667\n        ],\n        \"semantic_type\": \"\",\n        \"description\": \"\"\n      }\n    },\n    {\n      \"column\": \"lng\",\n      \"properties\": {\n        \"dtype\": \"number\",\n        \"std\": 1.993919249579581,\n        \"min\": -7.6411,\n        \"max\": 1.3,\n        \"num_unique_values\": 191,\n        \"samples\": [\n          -2.6833,\n          -2.1,\n          -6.3646\n        ],\n        \"semantic_type\": \"\",\n        \"description\": \"\"\n      }\n    },\n    {\n      \"column\": \"country\",\n      \"properties\": {\n        \"dtype\": \"category\",\n        \"num_unique_values\": 1,\n        \"samples\": [\n          \"United Kingdom\"\n        ],\n        \"semantic_type\": \"\",\n        \"description\": \"\"\n      }\n    },\n    {\n      \"column\": \"iso2\",\n      \"properties\": {\n        \"dtype\": \"category\",\n        \"num_unique_values\": 1,\n        \"samples\": [\n          \"GB\"\n        ],\n        \"semantic_type\": \"\",\n        \"description\": \"\"\n      }\n    },\n    {\n      \"column\": \"iso3\",\n      \"properties\": {\n        \"dtype\": \"category\",\n        \"num_unique_values\": 1,\n        \"samples\": [\n          \"GBR\"\n        ],\n        \"semantic_type\": \"\",\n        \"description\": \"\"\n      }\n    },\n    {\n      \"column\": \"admin_name\",\n      \"properties\": {\n        \"dtype\": \"string\",\n        \"num_unique_values\": 212,\n        \"samples\": [\n          \"Oxfordshire\"\n        ],\n        \"semantic_type\": \"\",\n        \"description\": \"\"\n      }\n    },\n    {\n      \"column\": \"capital\",\n      \"properties\": {\n        \"dtype\": \"category\",\n        \"num_unique_values\": 2,\n        \"samples\": [\n          \"admin\"\n        ],\n        \"semantic_type\": \"\",\n        \"description\": \"\"\n      }\n    },\n    {\n      \"column\": \"population\",\n      \"properties\": {\n        \"dtype\": \"number\",\n        \"std\": 1195933.0003076333,\n        \"min\": 6594.0,\n        \"max\": 8567000.0,\n        \"num_unique_values\": 56,\n        \"samples\": [\n          8567000.0\n        ],\n        \"semantic_type\": \"\",\n        \"description\": \"\"\n      }\n    },\n    {\n      \"column\": \"id\",\n      \"properties\": {\n        \"dtype\": \"number\",\n        \"std\": 288020,\n        \"min\": 1826000009,\n        \"max\": 1826996583,\n        \"num_unique_values\": 228,\n        \"samples\": [\n          1826967267\n        ],\n        \"semantic_type\": \"\",\n        \"description\": \"\"\n      }\n    }\n  ]\n}"
            }
          },
          "metadata": {},
          "execution_count": 24
        }
      ]
    },
    {
      "cell_type": "markdown",
      "source": [
        "We can also filter to find a specific place..."
      ],
      "metadata": {
        "id": "cdQmlIdbHS2S"
      }
    },
    {
      "cell_type": "code",
      "source": [
        "filtered_df_UK[filtered_df_UK['city']==\"Leeds\"].iloc[0]"
      ],
      "metadata": {
        "colab": {
          "base_uri": "https://localhost:8080/",
          "height": 429
        },
        "id": "Q84-XoEpFi_W",
        "outputId": "00450438-57a3-4295-c74c-295259b94d0e"
      },
      "execution_count": null,
      "outputs": [
        {
          "output_type": "execute_result",
          "data": {
            "text/plain": [
              "city                   Leeds\n",
              "city_ascii             Leeds\n",
              "lat                    53.83\n",
              "lng                    -1.58\n",
              "country       United Kingdom\n",
              "iso2                      GB\n",
              "iso3                     GBR\n",
              "admin_name             Leeds\n",
              "capital                admin\n",
              "population         1529000.0\n",
              "id                1826343963\n",
              "Name: 297, dtype: object"
            ],
            "text/html": [
              "<div>\n",
              "<style scoped>\n",
              "    .dataframe tbody tr th:only-of-type {\n",
              "        vertical-align: middle;\n",
              "    }\n",
              "\n",
              "    .dataframe tbody tr th {\n",
              "        vertical-align: top;\n",
              "    }\n",
              "\n",
              "    .dataframe thead th {\n",
              "        text-align: right;\n",
              "    }\n",
              "</style>\n",
              "<table border=\"1\" class=\"dataframe\">\n",
              "  <thead>\n",
              "    <tr style=\"text-align: right;\">\n",
              "      <th></th>\n",
              "      <th>297</th>\n",
              "    </tr>\n",
              "  </thead>\n",
              "  <tbody>\n",
              "    <tr>\n",
              "      <th>city</th>\n",
              "      <td>Leeds</td>\n",
              "    </tr>\n",
              "    <tr>\n",
              "      <th>city_ascii</th>\n",
              "      <td>Leeds</td>\n",
              "    </tr>\n",
              "    <tr>\n",
              "      <th>lat</th>\n",
              "      <td>53.83</td>\n",
              "    </tr>\n",
              "    <tr>\n",
              "      <th>lng</th>\n",
              "      <td>-1.58</td>\n",
              "    </tr>\n",
              "    <tr>\n",
              "      <th>country</th>\n",
              "      <td>United Kingdom</td>\n",
              "    </tr>\n",
              "    <tr>\n",
              "      <th>iso2</th>\n",
              "      <td>GB</td>\n",
              "    </tr>\n",
              "    <tr>\n",
              "      <th>iso3</th>\n",
              "      <td>GBR</td>\n",
              "    </tr>\n",
              "    <tr>\n",
              "      <th>admin_name</th>\n",
              "      <td>Leeds</td>\n",
              "    </tr>\n",
              "    <tr>\n",
              "      <th>capital</th>\n",
              "      <td>admin</td>\n",
              "    </tr>\n",
              "    <tr>\n",
              "      <th>population</th>\n",
              "      <td>1529000.0</td>\n",
              "    </tr>\n",
              "    <tr>\n",
              "      <th>id</th>\n",
              "      <td>1826343963</td>\n",
              "    </tr>\n",
              "  </tbody>\n",
              "</table>\n",
              "</div><br><label><b>dtype:</b> object</label>"
            ]
          },
          "metadata": {},
          "execution_count": 25
        }
      ]
    },
    {
      "cell_type": "markdown",
      "source": [
        "Or item"
      ],
      "metadata": {
        "id": "2JSUsI3UKmWM"
      }
    },
    {
      "cell_type": "code",
      "source": [
        "city = filtered_df_UK[filtered_df_UK['city']==\"Chester\"].iloc[0]\n",
        "city_coords = city.lat, city.lng\n",
        "print(city_coords)"
      ],
      "metadata": {
        "colab": {
          "base_uri": "https://localhost:8080/"
        },
        "id": "fcSJ4A0rKoy6",
        "outputId": "eb05edc1-0ac3-4cd0-9cdc-00e6cbf500c4"
      },
      "execution_count": null,
      "outputs": [
        {
          "output_type": "stream",
          "name": "stdout",
          "text": [
            "(np.float64(53.2), np.float64(-2.92))\n"
          ]
        }
      ]
    },
    {
      "cell_type": "markdown",
      "source": [
        "Do the same for Germany now:"
      ],
      "metadata": {
        "id": "o2Zqn6fBDEcj"
      }
    },
    {
      "cell_type": "code",
      "source": [
        "Country = \"\"\n",
        "\n",
        "filtered_df = df[df['country'] == Country]\n",
        "filtered_df"
      ],
      "metadata": {
        "id": "66_XXOC_CtBN"
      },
      "execution_count": null,
      "outputs": []
    },
    {
      "cell_type": "markdown",
      "source": [
        "Since we are only interested in German data we will make a copy of the dataset with only German data."
      ],
      "metadata": {
        "id": "6vAWJJFTEP28"
      }
    },
    {
      "cell_type": "code",
      "source": [
        "germany_df = df[df['country'] == Country].copy()"
      ],
      "metadata": {
        "id": "Abo_A254FWhL"
      },
      "execution_count": null,
      "outputs": []
    },
    {
      "cell_type": "markdown",
      "source": [
        "Choose a city in Germany and return its population relative to Berlin, and its distance from Berlin."
      ],
      "metadata": {
        "id": "cDPM0GEdJIzn"
      }
    },
    {
      "cell_type": "code",
      "source": [],
      "metadata": {
        "id": "8JR8O6oxOZj5"
      },
      "execution_count": null,
      "outputs": []
    },
    {
      "cell_type": "markdown",
      "source": [
        "Calculate the distance between your apartment/house and the Lankwitz campus.\n",
        "\n",
        "Include your answer when you share your completed worksheet."
      ],
      "metadata": {
        "id": "57GjaHEDGd7_"
      }
    },
    {
      "cell_type": "code",
      "source": [],
      "metadata": {
        "id": "Vf7sauQgI3IQ"
      },
      "execution_count": null,
      "outputs": []
    }
  ]
}