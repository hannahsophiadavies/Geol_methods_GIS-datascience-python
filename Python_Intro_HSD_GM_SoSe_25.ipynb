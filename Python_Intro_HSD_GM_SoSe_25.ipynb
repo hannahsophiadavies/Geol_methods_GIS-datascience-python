{
  "cells": [
    {
      "cell_type": "markdown",
      "metadata": {
        "id": "view-in-github",
        "colab_type": "text"
      },
      "source": [
        "<a href=\"https://colab.research.google.com/github/hannahsophiadavies/Geol_methods_GIS-datascience-python/blob/main/Python_Intro_HSD_GM_SoSe_25.ipynb\" target=\"_parent\"><img src=\"https://colab.research.google.com/assets/colab-badge.svg\" alt=\"Open In Colab\"/></a>"
      ]
    },
    {
      "cell_type": "markdown",
      "metadata": {
        "id": "cmQPIdHyln0t"
      },
      "source": [
        "# 1. Very simple 'programs'\n",
        "## 1.1 Running Python In Jupyter notebooks\n",
        "One of the most convenient and easy to understand ways to write and use python code is in a jupyter notebook. Here we will learn the basics of coding with python in a notebook.<br>\n",
        "Type your code in the regions marked with square brackets and text: \"Start coding or generate with AI\"<br>\n",
        "```python\n",
        "print('Hello, World')\n",
        "```\n",
        "Then press `<shift> + <return>` to execute the command, or press the play button next to the code fragment you just typed.\n",
        "\n"
      ]
    },
    {
      "cell_type": "code",
      "execution_count": null,
      "metadata": {
        "colab": {
          "base_uri": "https://localhost:8080/"
        },
        "id": "HCDOFqt-ln0t",
        "outputId": "9b8f7bf6-d22c-499e-b81e-db36653cc245"
      },
      "outputs": [
        {
          "output_type": "stream",
          "name": "stdout",
          "text": [
            "Hello, World\n"
          ]
        }
      ],
      "source": [
        "print(\"Hello, World\")"
      ]
    },
    {
      "cell_type": "markdown",
      "metadata": {
        "id": "49PnSS-8ln0t"
      },
      "source": [
        "What happened?\n",
        "\n",
        "You just created a program, that prints the words 'Hello, World'. The Python environment that you are in immediately compiles whatever you have typed in."
      ]
    },
    {
      "cell_type": "markdown",
      "metadata": {
        "id": "ePqeM6fHln0t"
      },
      "source": [
        "## 1.2 Math in Python\n",
        "Type<br>\n",
        "```python\n",
        "1 + 1\n",
        "```\n",
        "and execute the code."
      ]
    },
    {
      "cell_type": "code",
      "execution_count": null,
      "metadata": {
        "scrolled": true,
        "colab": {
          "base_uri": "https://localhost:8080/"
        },
        "id": "mqvlR_Nfln0u",
        "outputId": "e9cc77ab-3eb2-4ccb-de74-a4661a00b17f"
      },
      "outputs": [
        {
          "output_type": "execute_result",
          "data": {
            "text/plain": [
              "2"
            ]
          },
          "metadata": {},
          "execution_count": 3
        }
      ],
      "source": [
        " + 1"
      ]
    },
    {
      "cell_type": "markdown",
      "metadata": {
        "id": "zsGkolUOln0u"
      },
      "source": [
        "Now type\n",
        "```python\n",
        "20 + 80\n",
        "```\n",
        "and execute the code."
      ]
    },
    {
      "cell_type": "code",
      "execution_count": null,
      "metadata": {
        "id": "9ylI_3f8ln0u"
      },
      "outputs": [],
      "source": []
    },
    {
      "cell_type": "markdown",
      "metadata": {
        "id": "3nf4ygeMln0v"
      },
      "source": [
        "These are additions. We can of course use other mathematical operators.<br>\n",
        "Try this subtraction:<br>\n",
        "```python\n",
        "6 - 5\n",
        "```"
      ]
    },
    {
      "cell_type": "code",
      "execution_count": null,
      "metadata": {
        "id": "FLW-5FKNln0v"
      },
      "outputs": [],
      "source": []
    },
    {
      "cell_type": "markdown",
      "metadata": {
        "id": "gSlsQiCcln0v"
      },
      "source": [
        "and this multiplication:<br>\n",
        "```python\n",
        "2 * 5\n",
        "```"
      ]
    },
    {
      "cell_type": "code",
      "execution_count": null,
      "metadata": {
        "id": "3WZSIWAvln0v"
      },
      "outputs": [],
      "source": []
    },
    {
      "cell_type": "markdown",
      "metadata": {
        "id": "i7NQPsiPln0v"
      },
      "source": [
        "Try:\n",
        "```python\n",
        "5 ** 2\n",
        "```"
      ]
    },
    {
      "cell_type": "code",
      "execution_count": null,
      "metadata": {
        "id": "LXLPbpojln0v"
      },
      "outputs": [],
      "source": []
    },
    {
      "cell_type": "markdown",
      "metadata": {
        "id": "dtgES4FRln0v"
      },
      "source": [
        "`**` is the exponential operator, so we executed 5 squared."
      ]
    },
    {
      "cell_type": "markdown",
      "metadata": {
        "id": "ZCz434qQln0v"
      },
      "source": [
        "Type:\n",
        "```python\n",
        "print('1 + 2 is an addition')\n",
        "```"
      ]
    },
    {
      "cell_type": "code",
      "execution_count": null,
      "metadata": {
        "id": "vMgxye2tln0w"
      },
      "outputs": [],
      "source": []
    },
    {
      "cell_type": "markdown",
      "metadata": {
        "id": "TYfw4L0Hln0w"
      },
      "source": [
        "You see that the `print` statement writes something on the screen.\n",
        "\n",
        "Try this:\n",
        "```python\n",
        "print('one kilobyte is 2^10 bytes, or', 2 ** 10, 'bytes')\n",
        "```"
      ]
    },
    {
      "cell_type": "code",
      "execution_count": null,
      "metadata": {
        "id": "qTuK-EUvln0w"
      },
      "outputs": [],
      "source": []
    },
    {
      "cell_type": "markdown",
      "metadata": {
        "id": "RRq-MH39ln0w"
      },
      "source": [
        "This demonstrates that you can print text and calculations in a sentence. The commas separating each section are a way of separating strings (text) from calculations or variable."
      ]
    },
    {
      "cell_type": "markdown",
      "metadata": {
        "id": "gDgOX8i6ln0w"
      },
      "source": [
        "Now try this:\n",
        "```python\n",
        "23 / 3\n",
        "```"
      ]
    },
    {
      "cell_type": "code",
      "execution_count": null,
      "metadata": {
        "id": "_ki2Gh7Qln0w"
      },
      "outputs": [],
      "source": []
    },
    {
      "cell_type": "markdown",
      "metadata": {
        "id": "3clNqUPhln0w"
      },
      "source": [
        "And this:<br>\n",
        "```python\n",
        "23 % 3\n",
        "```"
      ]
    },
    {
      "cell_type": "code",
      "execution_count": null,
      "metadata": {
        "id": "QtNNp5lYln0w"
      },
      "outputs": [],
      "source": []
    },
    {
      "cell_type": "markdown",
      "metadata": {
        "id": "WpbGmf7nln0w"
      },
      "source": [
        "`%` returns the remainder of the division."
      ]
    },
    {
      "cell_type": "markdown",
      "metadata": {
        "id": "4Rc6zoSbln0w"
      },
      "source": [
        "## 1.3 Order of Operations"
      ]
    },
    {
      "cell_type": "markdown",
      "metadata": {
        "id": "NAzFdH6Aln0w"
      },
      "source": [
        "Remember that thing called order of operation that they taught in maths? Well, it applies in Python, too. Here it is, if you need reminding:<br>\n",
        "1. Parenthesis `()`\n",
        "2. Exponents `**`\n",
        "3. Multiplication `*`, division `/` and remainder `%`\n",
        "4. Addition `+` and subtraction `-`"
      ]
    },
    {
      "cell_type": "markdown",
      "metadata": {
        "id": "qh49k4tLln0w"
      },
      "source": [
        "Here are some examples that you might want to try, if you're rusty on this:<br>\n",
        "```python\n",
        "1 + 2 * 3\n",
        "(1 + 2) * 3\n",
        "```"
      ]
    },
    {
      "cell_type": "code",
      "execution_count": null,
      "metadata": {
        "id": "zEtaJDjDln0w"
      },
      "outputs": [],
      "source": []
    },
    {
      "cell_type": "code",
      "execution_count": null,
      "metadata": {
        "id": "EpIw-mGGln0w"
      },
      "outputs": [],
      "source": []
    },
    {
      "cell_type": "markdown",
      "metadata": {
        "id": "7mBI9ywRln0w"
      },
      "source": [
        "## 1.4 Comments, Please\n",
        "The final thing you'll need to know to move on to multi-line programs is the comment. Type the following (and yes, the output is shown):\n",
        "```python\n",
        "# I am a comment. Fear my wrath!\n",
        "```"
      ]
    },
    {
      "cell_type": "code",
      "execution_count": null,
      "metadata": {
        "id": "6YyXqrGEln0w"
      },
      "outputs": [],
      "source": []
    },
    {
      "cell_type": "markdown",
      "metadata": {
        "id": "agpXyYocln0w"
      },
      "source": [
        "A comment is a piece of code that is not run. In Python, you make something a comment by putting a hash in front of it. A hash comments everything after it in the line, and nothing before it. So you could type this:\n",
        "```python\n",
        "print(\"food is very nice\") #eat me\n",
        "```"
      ]
    },
    {
      "cell_type": "code",
      "execution_count": null,
      "metadata": {
        "id": "zYON-ipLln0w"
      },
      "outputs": [],
      "source": []
    },
    {
      "cell_type": "markdown",
      "metadata": {
        "id": "1m0b4FwNln0w"
      },
      "source": [
        "This results in a normal output, without the somewhat rude comment, thank you very much.\n",
        "\n",
        "Now try this:\n",
        "```python\n",
        "# print(\"food is very nice\")\n",
        "```"
      ]
    },
    {
      "cell_type": "code",
      "execution_count": null,
      "metadata": {
        "id": "ippTYUNMln0x"
      },
      "outputs": [],
      "source": []
    },
    {
      "cell_type": "markdown",
      "metadata": {
        "id": "9MpoLMTiln0x"
      },
      "source": [
        "Nothing happens, because the code was after a comment."
      ]
    },
    {
      "cell_type": "markdown",
      "metadata": {
        "id": "GFWAw_r5ln0x"
      },
      "source": [
        "Comments are important for adding necessary information for another programmer to read, but not the computer. For example, an explanation of a section of code, saying what it does, or what is wrong with it. You can also comment bits of code by putting a `#` in front of it - if you don't want it to compile, but can't delete it because you might need it later.\n",
        "\n",
        "The shortcut for this is [cmd/ctrl + /] - try to use the shortcuts as it is easier"
      ]
    },
    {
      "cell_type": "markdown",
      "source": [
        "## 1.5 Variables\n",
        "Now let's start introducing variables. Variables store a value, that can be looked at or changed at a later time. Let's make a program that uses variables:"
      ],
      "metadata": {
        "id": "GKZV9r3vjvq7"
      }
    },
    {
      "cell_type": "code",
      "source": [
        "#variables demonstrated\n",
        "print(\"This program is a demo of variables\")\n",
        "v = 1\n",
        "print(\"The value of v is now\", v)\n",
        "v = v + 1\n",
        "print(\"v now equals itself plus one, making it worth\", v)\n",
        "v = 51\n",
        "print(\"v can store any numerical value, to be used elsewhere.\")\n",
        "print(\"for example, in a sentence. v is now worth\", v)\n",
        "print(\"v times 5 equals\", v * 5)\n",
        "print(\"but v still only remains\", v)\n",
        "print(\"to make v five times bigger, you would have to type v = v * 5\")\n",
        "v = v * 5\n",
        "print(\"there you go, now v equals\", v, \"and not\", v / 5)"
      ],
      "metadata": {
        "colab": {
          "base_uri": "https://localhost:8080/"
        },
        "id": "USbUcUynkGIJ",
        "outputId": "131bc759-947e-483f-e0d9-36b5fc04e078"
      },
      "execution_count": null,
      "outputs": [
        {
          "output_type": "stream",
          "name": "stdout",
          "text": [
            "This program is a demo of variables\n",
            "The value of v is now 1\n",
            "v now equals itself plus one, making it worth 2\n",
            "v can store any numerical value, to be used elsewhere.\n",
            "for example, in a sentence. v is now worth 51\n",
            "v times 5 equals 255\n",
            "but v still only remains 51\n",
            "to make v five times bigger, you would have to type v = v * 5\n",
            "there you go, now v equals 255 and not 51.0\n"
          ]
        }
      ]
    },
    {
      "cell_type": "markdown",
      "source": [
        "Run the script and try to understand the results.\n",
        "\n",
        "Note that we can also write v = v + 1 as v += 1. This can be used for all operators (e.g. -=, *=,/=). Try it in the empty code line below.\n",
        "\n",
        "It is good practice to use lowercase for variables. Don't use special characters and don't start with a number!\n",
        "\n",
        "What does v equal?"
      ],
      "metadata": {
        "id": "wwfBeYdWkYR9"
      }
    },
    {
      "cell_type": "code",
      "source": [],
      "metadata": {
        "id": "bV2__4hEkcPh"
      },
      "execution_count": null,
      "outputs": []
    },
    {
      "cell_type": "markdown",
      "source": [
        "## 1.6 Logical operators\n",
        "While -=, *=, /= and += will do math for you, if you use a == it has a different meaning ```==``` is a type of logical operator"
      ],
      "metadata": {
        "id": "PLWWhxQuBn9H"
      }
    },
    {
      "cell_type": "code",
      "source": [
        "2 == 2"
      ],
      "metadata": {
        "colab": {
          "base_uri": "https://localhost:8080/"
        },
        "id": "BKJ2rrTzCgvv",
        "outputId": "2d1198d6-09bd-491c-e9c4-29f654da9233"
      },
      "execution_count": null,
      "outputs": [
        {
          "output_type": "execute_result",
          "data": {
            "text/plain": [
              "True"
            ]
          },
          "metadata": {},
          "execution_count": 3
        }
      ]
    },
    {
      "cell_type": "markdown",
      "source": [
        "In the code above we are essentially asking the machine to check if 2 = 2. This is very useful for conditional statements which we will cover later in the course.\n",
        "\n",
        "The other logical operators we can use in Python are:\n",
        "\n",
        "*   Not equal to: ```!=```\n",
        "*   Less than: ```<```\n",
        "*   Greater than: ```>```\n",
        "*   Less than/greater than and equal to ```<=``` ```>=```\n",
        "\n",
        "We can also stack them to be very specific about the number we are searching for. For example:"
      ],
      "metadata": {
        "id": "JVcxJSKCCj_E"
      }
    },
    {
      "cell_type": "code",
      "source": [
        "(1 >= 1) and (1 < 1)"
      ],
      "metadata": {
        "colab": {
          "base_uri": "https://localhost:8080/"
        },
        "id": "vW7IIRL1EJvF",
        "outputId": "0ce82f1e-5889-4cf2-e37e-41590595656a"
      },
      "execution_count": null,
      "outputs": [
        {
          "output_type": "execute_result",
          "data": {
            "text/plain": [
              "False"
            ]
          },
          "metadata": {},
          "execution_count": 14
        }
      ]
    },
    {
      "cell_type": "markdown",
      "source": [
        "See how the ```and``` changed colour? That means it recognises it is an ```and``` statement. You are asking the computer to check one thing *and* another thing. You can also try ```or``` here too"
      ],
      "metadata": {
        "id": "RObNU06QEVND"
      }
    },
    {
      "cell_type": "markdown",
      "source": [
        " Try each of the exercises below now:"
      ],
      "metadata": {
        "id": "MfDIdGyAEGOQ"
      }
    },
    {
      "cell_type": "markdown",
      "source": [
        "Use any operator to get a ```False``` output"
      ],
      "metadata": {
        "id": "3WVNSZQ5D406"
      }
    },
    {
      "cell_type": "code",
      "source": [],
      "metadata": {
        "id": "gx2_W_kjD3hA"
      },
      "execution_count": null,
      "outputs": []
    },
    {
      "cell_type": "markdown",
      "source": [
        "Use ```or``` statement to get a true output"
      ],
      "metadata": {
        "id": "NKJCPgZ5EB-3"
      }
    },
    {
      "cell_type": "code",
      "source": [],
      "metadata": {
        "id": "-XGyLNBHEvv4"
      },
      "execution_count": null,
      "outputs": []
    },
    {
      "cell_type": "markdown",
      "source": [
        "## 1.7 Types\n",
        "As we have seen above, text or numbers inside of parentheses e.g. \"examples text\" are recognised as a string, where regular numbers can be several different types depending on if they are an integer or have a decimal. If you are ever unsure about what type a variable is you can ask it like so:"
      ],
      "metadata": {
        "id": "2SWiRyZQkapk"
      }
    },
    {
      "cell_type": "code",
      "source": [
        "type(\"object in brackets\")"
      ],
      "metadata": {
        "colab": {
          "base_uri": "https://localhost:8080/"
        },
        "id": "IdDeJb9d-QqA",
        "outputId": "ed15c53e-64d6-4692-869a-114b24c36465"
      },
      "execution_count": null,
      "outputs": [
        {
          "output_type": "execute_result",
          "data": {
            "text/plain": [
              "str"
            ]
          },
          "metadata": {},
          "execution_count": 1
        }
      ]
    },
    {
      "cell_type": "code",
      "source": [
        "type(v)"
      ],
      "metadata": {
        "colab": {
          "base_uri": "https://localhost:8080/"
        },
        "id": "JJ4lVWUdlcJy",
        "outputId": "d36e46f6-5606-45c9-8ea7-e2d0c06e0314"
      },
      "execution_count": null,
      "outputs": [
        {
          "output_type": "execute_result",
          "data": {
            "text/plain": [
              "int"
            ]
          },
          "metadata": {},
          "execution_count": 2
        }
      ]
    },
    {
      "cell_type": "code",
      "source": [
        "pi = 3.14\n",
        "\n",
        "type(pi)"
      ],
      "metadata": {
        "colab": {
          "base_uri": "https://localhost:8080/"
        },
        "id": "ncl-Nd2Dlsj_",
        "outputId": "40121b27-7fdc-4961-ecd7-f45340ff0617"
      },
      "execution_count": null,
      "outputs": [
        {
          "output_type": "execute_result",
          "data": {
            "text/plain": [
              "float"
            ]
          },
          "metadata": {},
          "execution_count": 4
        }
      ]
    },
    {
      "cell_type": "markdown",
      "source": [
        "## 1.8 Tuples/lists/arrays/dictionaries - variables with more than one variable inside\n",
        "\n",
        "Often times you want to store more complex information in a single data structure. For example you have a latitude and longitude, you could store them separately but what if you have more than one point?\n",
        "\n",
        "It gets tiring and unwieldy to format it like\n",
        "```lat1 = 15```\n",
        "```lon1 = 160```\n",
        "```lat2 = 49 ```\n",
        "```lon2 = 145 ```\n",
        "\n",
        "It is better to store them in a data structure:\n",
        "\n"
      ],
      "metadata": {
        "id": "NN6jLwnrl4yN"
      }
    },
    {
      "cell_type": "markdown",
      "source": [
        "###Tuples\n",
        "A tuple is a sequence of objects. It can have any number of objects inside. In Python tuples are written with round brackets ()."
      ],
      "metadata": {
        "id": "-B6r43oCo79l"
      }
    },
    {
      "cell_type": "code",
      "source": [
        "latitude = 37.7739\n",
        "longitude = -121.5687\n",
        "coordinates = (latitude, longitude)\n",
        "print(coordinates)"
      ],
      "metadata": {
        "colab": {
          "base_uri": "https://localhost:8080/"
        },
        "id": "Wyom15DCo9XK",
        "outputId": "c0e238dc-c4e9-4f29-ef93-464ac63bafbd"
      },
      "execution_count": null,
      "outputs": [
        {
          "output_type": "stream",
          "name": "stdout",
          "text": [
            "(37.7739, -121.5687)\n"
          ]
        }
      ]
    },
    {
      "cell_type": "markdown",
      "source": [
        "You can access each item by its position, i.e. index. In programming, the counting starts from 0. So the first item has an index of 0, the second item an index of 1 and so now. The index has to be put inside square brackets []."
      ],
      "metadata": {
        "id": "0hIPZkEDpB3o"
      }
    },
    {
      "cell_type": "code",
      "source": [
        "y = coordinates[0]\n",
        "x = coordinates[1]\n",
        "print(x, y)"
      ],
      "metadata": {
        "colab": {
          "base_uri": "https://localhost:8080/"
        },
        "id": "TMRQrddopClF",
        "outputId": "cffa94d0-fe95-4aae-961b-ef28a49ec9f4"
      },
      "execution_count": null,
      "outputs": [
        {
          "output_type": "stream",
          "name": "stdout",
          "text": [
            "-121.5687 37.7739\n"
          ]
        }
      ]
    },
    {
      "cell_type": "markdown",
      "source": [
        "Do the same as above to make a tuple for the coordinates of the Berlin Geocampus below"
      ],
      "metadata": {
        "id": "zdEpYHtRFK5T"
      }
    },
    {
      "cell_type": "code",
      "source": [],
      "metadata": {
        "id": "mF_OciYnFQ78"
      },
      "execution_count": null,
      "outputs": []
    },
    {
      "cell_type": "markdown",
      "source": [
        "###Lists or arrays\n",
        "A list is a set of elements that is mutable, meaning it can be changed, it can also hold many different types of data:"
      ],
      "metadata": {
        "id": "3KAXtA_EoW4z"
      }
    },
    {
      "cell_type": "code",
      "source": [
        "cities = ['San Francisco', 'Los Angeles', 'New York', 'Atlanta']\n",
        "print(cities)"
      ],
      "metadata": {
        "colab": {
          "base_uri": "https://localhost:8080/"
        },
        "id": "WiPwI_6toWDn",
        "outputId": "29bea33b-a37a-4dba-f8e9-6d0a919d12f9"
      },
      "execution_count": null,
      "outputs": [
        {
          "output_type": "stream",
          "name": "stdout",
          "text": [
            "['San Francisco', 'Los Angeles', 'New York', 'Atlanta']\n"
          ]
        }
      ]
    },
    {
      "cell_type": "code",
      "source": [
        "median_ages = [43, 56, 33, 60] #not median ages of the cities above, just an example!\n",
        "print(median_ages)"
      ],
      "metadata": {
        "colab": {
          "base_uri": "https://localhost:8080/"
        },
        "id": "TIrMNG-Zqrin",
        "outputId": "fb8e6808-2f2e-45a8-eb7f-b9c330fe745b"
      },
      "execution_count": null,
      "outputs": [
        {
          "output_type": "stream",
          "name": "stdout",
          "text": [
            "[43, 56, 33, 60]\n"
          ]
        }
      ]
    },
    {
      "cell_type": "markdown",
      "source": [
        "Use ```len()``` to see how long the data structure is"
      ],
      "metadata": {
        "id": "1j7z7331pequ"
      }
    },
    {
      "cell_type": "code",
      "source": [
        "len(cities)"
      ],
      "metadata": {
        "colab": {
          "base_uri": "https://localhost:8080/"
        },
        "id": "gVyzkMc0pj5K",
        "outputId": "aec74c78-5ded-4749-e2d4-7774ef9b0d66"
      },
      "execution_count": null,
      "outputs": [
        {
          "output_type": "execute_result",
          "data": {
            "text/plain": [
              "4"
            ]
          },
          "metadata": {},
          "execution_count": 23
        }
      ]
    },
    {
      "cell_type": "markdown",
      "source": [
        "You can access elements the same way as with a tuple:"
      ],
      "metadata": {
        "id": "mwg2cNO2pJhN"
      }
    },
    {
      "cell_type": "code",
      "source": [
        "print(cities[0])"
      ],
      "metadata": {
        "colab": {
          "base_uri": "https://localhost:8080/"
        },
        "id": "aaci8YDvou7q",
        "outputId": "6a7d38bc-3d84-459c-9086-8b18bcbfccb2"
      },
      "execution_count": null,
      "outputs": [
        {
          "output_type": "stream",
          "name": "stdout",
          "text": [
            "San Francisco\n"
          ]
        }
      ]
    },
    {
      "cell_type": "markdown",
      "source": [
        "You can add elements to a list using the ```.append``` method"
      ],
      "metadata": {
        "id": "GhDQOzA8pQuw"
      }
    },
    {
      "cell_type": "code",
      "source": [
        "cities.append('Boston')\n",
        "print(cities)"
      ],
      "metadata": {
        "colab": {
          "base_uri": "https://localhost:8080/"
        },
        "id": "xmTx6KhApXku",
        "outputId": "e162a7a8-6b00-4f53-b252-a8694883afc5"
      },
      "execution_count": null,
      "outputs": [
        {
          "output_type": "stream",
          "name": "stdout",
          "text": [
            "['San Francisco', 'Los Angeles', 'New York', 'Atlanta', 'Boston']\n"
          ]
        }
      ]
    },
    {
      "cell_type": "markdown",
      "source": [
        "Append another city below and print the output:"
      ],
      "metadata": {
        "id": "68VxMoDFFX4D"
      }
    },
    {
      "cell_type": "code",
      "source": [],
      "metadata": {
        "id": "2L2rEUBzFhiQ"
      },
      "execution_count": null,
      "outputs": []
    },
    {
      "cell_type": "markdown",
      "source": [
        "See how long ```cities``` is now using ```len()```:"
      ],
      "metadata": {
        "id": "wX3dyJPEplnH"
      }
    },
    {
      "cell_type": "code",
      "source": [],
      "metadata": {
        "id": "PTmldb85prJ0"
      },
      "execution_count": null,
      "outputs": []
    },
    {
      "cell_type": "markdown",
      "source": [
        "You can even edit one of the variables, as long as you know the index. Get index by using the ```index()``` method"
      ],
      "metadata": {
        "id": "9kLEjtbbtjzt"
      }
    },
    {
      "cell_type": "code",
      "source": [
        "cities.index(\"Boston\") #Find the index of Boston"
      ],
      "metadata": {
        "colab": {
          "base_uri": "https://localhost:8080/"
        },
        "id": "tpQTG8jft0jG",
        "outputId": "8ddc5d8d-e5ba-44e4-826a-2f9a4c1e1dce"
      },
      "execution_count": null,
      "outputs": [
        {
          "output_type": "execute_result",
          "data": {
            "text/plain": [
              "4"
            ]
          },
          "metadata": {},
          "execution_count": 18
        }
      ]
    },
    {
      "cell_type": "code",
      "source": [
        "cities[4] = \"Chicago\"\n",
        "print(cities)"
      ],
      "metadata": {
        "colab": {
          "base_uri": "https://localhost:8080/"
        },
        "id": "GE1N3TI2t9Gl",
        "outputId": "a5b80215-58e0-4c2a-f942-a76d45df100b"
      },
      "execution_count": null,
      "outputs": [
        {
          "output_type": "stream",
          "name": "stdout",
          "text": [
            "['San Francisco', 'Los Angeles', 'New York', 'Atlanta', 'Chicago']\n"
          ]
        }
      ]
    },
    {
      "cell_type": "markdown",
      "source": [
        "See how Boston is now replaced with Chicago? This can be done more automatically with loops and ```where``` but those will be in a later lesson. Try to replace another city with a German one (perhaps your hometown?). Remember if you don't know the index, use the ```index()``` method and:\n",
        "\n",
        "**REMEMBER ARRAYS COUNT FROM 0 IN PYTHON**"
      ],
      "metadata": {
        "id": "_Lt8-nXKuCiv"
      }
    },
    {
      "cell_type": "code",
      "source": [],
      "metadata": {
        "id": "Kl_NVWoGFkVi"
      },
      "execution_count": null,
      "outputs": []
    },
    {
      "cell_type": "markdown",
      "source": [
        "###Dictionaries\n",
        "In Python dictionaries are written with curly brackets {}. Dictionaries have keys and values. With lists, we can access each element by its index. But a dictionary makes it easy to access the element by name. If you want to store information of varying types, a dictionary is a good idea to not have messy data that is hard to read and access.\n",
        "\n",
        "Keys and values are separated by a colon :\n"
      ],
      "metadata": {
        "id": "GjtGy2W9pxGJ"
      }
    },
    {
      "cell_type": "markdown",
      "source": [],
      "metadata": {
        "id": "m1zkIpUxu2v6"
      }
    },
    {
      "cell_type": "code",
      "source": [
        "data = {'city': 'San Francisco',\n",
        "        'population': 881549,\n",
        "        'coordinates': (-122.4194, 37.7749) } #these can all be on the same line, but sometimes dictionaries are displayed as such to make them easier to read\n",
        "print(data)"
      ],
      "metadata": {
        "colab": {
          "base_uri": "https://localhost:8080/"
        },
        "id": "MHrarZ_RrOvS",
        "outputId": "15b59d16-75da-4d9a-930c-3ad366cd64b2"
      },
      "execution_count": null,
      "outputs": [
        {
          "output_type": "stream",
          "name": "stdout",
          "text": [
            "{'city': 'San Francisco', 'population': 881549, 'coordinates': (-122.4194, 37.7749)}\n"
          ]
        }
      ]
    },
    {
      "cell_type": "markdown",
      "source": [
        "You can access an item of a dictionary by referring to its key name, inside square brackets."
      ],
      "metadata": {
        "id": "9kOqZu5irTCS"
      }
    },
    {
      "cell_type": "code",
      "source": [
        "print(data['city'])"
      ],
      "metadata": {
        "id": "ZOTp6uwvrUzO"
      },
      "execution_count": null,
      "outputs": []
    },
    {
      "cell_type": "markdown",
      "source": [
        "You can also edit dictionaries with the same logic as tuples and lists. However you should generally be careful about overloading variables and replacing them. Make a new dictionary for Berlin, but instead of coordinates, make the latitude and longitude separate items. For reference:\n",
        "\n",
        "Population 3897145,\n",
        "\n",
        "Location: 52.520000, 13.405000"
      ],
      "metadata": {
        "id": "gDdnLHb1GLg5"
      }
    },
    {
      "cell_type": "code",
      "source": [],
      "metadata": {
        "id": "KMWI-FXlGKlO"
      },
      "execution_count": null,
      "outputs": []
    },
    {
      "cell_type": "markdown",
      "metadata": {
        "id": "Bg8NSTo_ln0x"
      },
      "source": [
        "# Assignment **Hausaufgabe**\n",
        "\n",
        "The Earth can be approximated as a sphere with a circumference of 40073 km. Demonstrate here with **commented** code the length of 1° of latitude at the equator and 1 arc minute of latitude at the equator."
      ]
    },
    {
      "cell_type": "code",
      "execution_count": null,
      "metadata": {
        "id": "Kiv2cI7cln0x"
      },
      "outputs": [],
      "source": []
    }
  ],
  "metadata": {
    "kernelspec": {
      "display_name": "Python 3 (ipykernel)",
      "language": "python",
      "name": "python3"
    },
    "language_info": {
      "codemirror_mode": {
        "name": "ipython",
        "version": 3
      },
      "file_extension": ".py",
      "mimetype": "text/x-python",
      "name": "python",
      "nbconvert_exporter": "python",
      "pygments_lexer": "ipython3",
      "version": "3.11.4"
    },
    "colab": {
      "provenance": [],
      "include_colab_link": true
    }
  },
  "nbformat": 4,
  "nbformat_minor": 0
}